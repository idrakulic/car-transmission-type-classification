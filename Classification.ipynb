{
  "cells": [
    {
      "cell_type": "code",
      "execution_count": 544,
      "id": "a8d6fda3-6bd9-400e-812f-f92291345679",
      "metadata": {
        "id": "a8d6fda3-6bd9-400e-812f-f92291345679"
      },
      "outputs": [],
      "source": [
        "import numpy as np\n",
        "import pandas as pd\n",
        "import matplotlib.pyplot as plt"
      ]
    },
    {
      "cell_type": "code",
      "execution_count": 545,
      "id": "51702a26-cc6a-42b7-88a6-db567d359dfa",
      "metadata": {
        "id": "51702a26-cc6a-42b7-88a6-db567d359dfa"
      },
      "outputs": [],
      "source": [
        "from sklearn import model_selection\n",
        "from sklearn import preprocessing\n",
        "from sklearn import metrics\n",
        "from sklearn.decomposition import PCA"
      ]
    },
    {
      "cell_type": "code",
      "source": [
        "from sklearn import svm\n",
        "from sklearn import linear_model\n",
        "from sklearn import ensemble\n",
        "import xgboost as xgb\n",
        "from sklearn import naive_bayes"
      ],
      "metadata": {
        "id": "24OHxEtuSPMR"
      },
      "id": "24OHxEtuSPMR",
      "execution_count": 546,
      "outputs": []
    },
    {
      "cell_type": "code",
      "execution_count": 547,
      "id": "435a6a00-0bd9-4d71-b776-f3438b483ea0",
      "metadata": {
        "id": "435a6a00-0bd9-4d71-b776-f3438b483ea0"
      },
      "outputs": [],
      "source": [
        "data = pd.read_csv('mtcars.csv')"
      ]
    },
    {
      "cell_type": "code",
      "execution_count": 548,
      "id": "61025a20-db6f-4416-b9d4-fad704d3bfad",
      "metadata": {
        "colab": {
          "base_uri": "https://localhost:8080/",
          "height": 206
        },
        "id": "61025a20-db6f-4416-b9d4-fad704d3bfad",
        "outputId": "bfff4a7d-753c-4845-9959-1d64585103af"
      },
      "outputs": [
        {
          "output_type": "execute_result",
          "data": {
            "text/plain": [
              "          Unnamed: 0   mpg  cyl   disp   hp  drat     wt   qsec  vs  am  gear  \\\n",
              "0          Mazda RX4  21.0    6  160.0  110  3.90  2.620  16.46   0   1     4   \n",
              "1      Mazda RX4 Wag  21.0    6  160.0  110  3.90  2.875  17.02   0   1     4   \n",
              "2         Datsun 710  22.8    4  108.0   93  3.85  2.320  18.61   1   1     4   \n",
              "3     Hornet 4 Drive  21.4    6  258.0  110  3.08  3.215  19.44   1   0     3   \n",
              "4  Hornet Sportabout  18.7    8  360.0  175  3.15  3.440  17.02   0   0     3   \n",
              "\n",
              "   carb  \n",
              "0     4  \n",
              "1     4  \n",
              "2     1  \n",
              "3     1  \n",
              "4     2  "
            ],
            "text/html": [
              "\n",
              "  <div id=\"df-07fd5921-3053-4073-b198-84758843dea2\" class=\"colab-df-container\">\n",
              "    <div>\n",
              "<style scoped>\n",
              "    .dataframe tbody tr th:only-of-type {\n",
              "        vertical-align: middle;\n",
              "    }\n",
              "\n",
              "    .dataframe tbody tr th {\n",
              "        vertical-align: top;\n",
              "    }\n",
              "\n",
              "    .dataframe thead th {\n",
              "        text-align: right;\n",
              "    }\n",
              "</style>\n",
              "<table border=\"1\" class=\"dataframe\">\n",
              "  <thead>\n",
              "    <tr style=\"text-align: right;\">\n",
              "      <th></th>\n",
              "      <th>Unnamed: 0</th>\n",
              "      <th>mpg</th>\n",
              "      <th>cyl</th>\n",
              "      <th>disp</th>\n",
              "      <th>hp</th>\n",
              "      <th>drat</th>\n",
              "      <th>wt</th>\n",
              "      <th>qsec</th>\n",
              "      <th>vs</th>\n",
              "      <th>am</th>\n",
              "      <th>gear</th>\n",
              "      <th>carb</th>\n",
              "    </tr>\n",
              "  </thead>\n",
              "  <tbody>\n",
              "    <tr>\n",
              "      <th>0</th>\n",
              "      <td>Mazda RX4</td>\n",
              "      <td>21.0</td>\n",
              "      <td>6</td>\n",
              "      <td>160.0</td>\n",
              "      <td>110</td>\n",
              "      <td>3.90</td>\n",
              "      <td>2.620</td>\n",
              "      <td>16.46</td>\n",
              "      <td>0</td>\n",
              "      <td>1</td>\n",
              "      <td>4</td>\n",
              "      <td>4</td>\n",
              "    </tr>\n",
              "    <tr>\n",
              "      <th>1</th>\n",
              "      <td>Mazda RX4 Wag</td>\n",
              "      <td>21.0</td>\n",
              "      <td>6</td>\n",
              "      <td>160.0</td>\n",
              "      <td>110</td>\n",
              "      <td>3.90</td>\n",
              "      <td>2.875</td>\n",
              "      <td>17.02</td>\n",
              "      <td>0</td>\n",
              "      <td>1</td>\n",
              "      <td>4</td>\n",
              "      <td>4</td>\n",
              "    </tr>\n",
              "    <tr>\n",
              "      <th>2</th>\n",
              "      <td>Datsun 710</td>\n",
              "      <td>22.8</td>\n",
              "      <td>4</td>\n",
              "      <td>108.0</td>\n",
              "      <td>93</td>\n",
              "      <td>3.85</td>\n",
              "      <td>2.320</td>\n",
              "      <td>18.61</td>\n",
              "      <td>1</td>\n",
              "      <td>1</td>\n",
              "      <td>4</td>\n",
              "      <td>1</td>\n",
              "    </tr>\n",
              "    <tr>\n",
              "      <th>3</th>\n",
              "      <td>Hornet 4 Drive</td>\n",
              "      <td>21.4</td>\n",
              "      <td>6</td>\n",
              "      <td>258.0</td>\n",
              "      <td>110</td>\n",
              "      <td>3.08</td>\n",
              "      <td>3.215</td>\n",
              "      <td>19.44</td>\n",
              "      <td>1</td>\n",
              "      <td>0</td>\n",
              "      <td>3</td>\n",
              "      <td>1</td>\n",
              "    </tr>\n",
              "    <tr>\n",
              "      <th>4</th>\n",
              "      <td>Hornet Sportabout</td>\n",
              "      <td>18.7</td>\n",
              "      <td>8</td>\n",
              "      <td>360.0</td>\n",
              "      <td>175</td>\n",
              "      <td>3.15</td>\n",
              "      <td>3.440</td>\n",
              "      <td>17.02</td>\n",
              "      <td>0</td>\n",
              "      <td>0</td>\n",
              "      <td>3</td>\n",
              "      <td>2</td>\n",
              "    </tr>\n",
              "  </tbody>\n",
              "</table>\n",
              "</div>\n",
              "    <div class=\"colab-df-buttons\">\n",
              "\n",
              "  <div class=\"colab-df-container\">\n",
              "    <button class=\"colab-df-convert\" onclick=\"convertToInteractive('df-07fd5921-3053-4073-b198-84758843dea2')\"\n",
              "            title=\"Convert this dataframe to an interactive table.\"\n",
              "            style=\"display:none;\">\n",
              "\n",
              "  <svg xmlns=\"http://www.w3.org/2000/svg\" height=\"24px\" viewBox=\"0 -960 960 960\">\n",
              "    <path d=\"M120-120v-720h720v720H120Zm60-500h600v-160H180v160Zm220 220h160v-160H400v160Zm0 220h160v-160H400v160ZM180-400h160v-160H180v160Zm440 0h160v-160H620v160ZM180-180h160v-160H180v160Zm440 0h160v-160H620v160Z\"/>\n",
              "  </svg>\n",
              "    </button>\n",
              "\n",
              "  <style>\n",
              "    .colab-df-container {\n",
              "      display:flex;\n",
              "      gap: 12px;\n",
              "    }\n",
              "\n",
              "    .colab-df-convert {\n",
              "      background-color: #E8F0FE;\n",
              "      border: none;\n",
              "      border-radius: 50%;\n",
              "      cursor: pointer;\n",
              "      display: none;\n",
              "      fill: #1967D2;\n",
              "      height: 32px;\n",
              "      padding: 0 0 0 0;\n",
              "      width: 32px;\n",
              "    }\n",
              "\n",
              "    .colab-df-convert:hover {\n",
              "      background-color: #E2EBFA;\n",
              "      box-shadow: 0px 1px 2px rgba(60, 64, 67, 0.3), 0px 1px 3px 1px rgba(60, 64, 67, 0.15);\n",
              "      fill: #174EA6;\n",
              "    }\n",
              "\n",
              "    .colab-df-buttons div {\n",
              "      margin-bottom: 4px;\n",
              "    }\n",
              "\n",
              "    [theme=dark] .colab-df-convert {\n",
              "      background-color: #3B4455;\n",
              "      fill: #D2E3FC;\n",
              "    }\n",
              "\n",
              "    [theme=dark] .colab-df-convert:hover {\n",
              "      background-color: #434B5C;\n",
              "      box-shadow: 0px 1px 3px 1px rgba(0, 0, 0, 0.15);\n",
              "      filter: drop-shadow(0px 1px 2px rgba(0, 0, 0, 0.3));\n",
              "      fill: #FFFFFF;\n",
              "    }\n",
              "  </style>\n",
              "\n",
              "    <script>\n",
              "      const buttonEl =\n",
              "        document.querySelector('#df-07fd5921-3053-4073-b198-84758843dea2 button.colab-df-convert');\n",
              "      buttonEl.style.display =\n",
              "        google.colab.kernel.accessAllowed ? 'block' : 'none';\n",
              "\n",
              "      async function convertToInteractive(key) {\n",
              "        const element = document.querySelector('#df-07fd5921-3053-4073-b198-84758843dea2');\n",
              "        const dataTable =\n",
              "          await google.colab.kernel.invokeFunction('convertToInteractive',\n",
              "                                                    [key], {});\n",
              "        if (!dataTable) return;\n",
              "\n",
              "        const docLinkHtml = 'Like what you see? Visit the ' +\n",
              "          '<a target=\"_blank\" href=https://colab.research.google.com/notebooks/data_table.ipynb>data table notebook</a>'\n",
              "          + ' to learn more about interactive tables.';\n",
              "        element.innerHTML = '';\n",
              "        dataTable['output_type'] = 'display_data';\n",
              "        await google.colab.output.renderOutput(dataTable, element);\n",
              "        const docLink = document.createElement('div');\n",
              "        docLink.innerHTML = docLinkHtml;\n",
              "        element.appendChild(docLink);\n",
              "      }\n",
              "    </script>\n",
              "  </div>\n",
              "\n",
              "\n",
              "<div id=\"df-2093fd34-5215-4bcf-bc9c-60496cf9dcf9\">\n",
              "  <button class=\"colab-df-quickchart\" onclick=\"quickchart('df-2093fd34-5215-4bcf-bc9c-60496cf9dcf9')\"\n",
              "            title=\"Suggest charts.\"\n",
              "            style=\"display:none;\">\n",
              "\n",
              "<svg xmlns=\"http://www.w3.org/2000/svg\" height=\"24px\"viewBox=\"0 0 24 24\"\n",
              "     width=\"24px\">\n",
              "    <g>\n",
              "        <path d=\"M19 3H5c-1.1 0-2 .9-2 2v14c0 1.1.9 2 2 2h14c1.1 0 2-.9 2-2V5c0-1.1-.9-2-2-2zM9 17H7v-7h2v7zm4 0h-2V7h2v10zm4 0h-2v-4h2v4z\"/>\n",
              "    </g>\n",
              "</svg>\n",
              "  </button>\n",
              "\n",
              "<style>\n",
              "  .colab-df-quickchart {\n",
              "    background-color: #E8F0FE;\n",
              "    border: none;\n",
              "    border-radius: 50%;\n",
              "    cursor: pointer;\n",
              "    display: none;\n",
              "    fill: #1967D2;\n",
              "    height: 32px;\n",
              "    padding: 0 0 0 0;\n",
              "    width: 32px;\n",
              "  }\n",
              "\n",
              "  .colab-df-quickchart:hover {\n",
              "    background-color: #E2EBFA;\n",
              "    box-shadow: 0px 1px 2px rgba(60, 64, 67, 0.3), 0px 1px 3px 1px rgba(60, 64, 67, 0.15);\n",
              "    fill: #174EA6;\n",
              "  }\n",
              "\n",
              "  [theme=dark] .colab-df-quickchart {\n",
              "    background-color: #3B4455;\n",
              "    fill: #D2E3FC;\n",
              "  }\n",
              "\n",
              "  [theme=dark] .colab-df-quickchart:hover {\n",
              "    background-color: #434B5C;\n",
              "    box-shadow: 0px 1px 3px 1px rgba(0, 0, 0, 0.15);\n",
              "    filter: drop-shadow(0px 1px 2px rgba(0, 0, 0, 0.3));\n",
              "    fill: #FFFFFF;\n",
              "  }\n",
              "</style>\n",
              "\n",
              "  <script>\n",
              "    async function quickchart(key) {\n",
              "      const charts = await google.colab.kernel.invokeFunction(\n",
              "          'suggestCharts', [key], {});\n",
              "    }\n",
              "    (() => {\n",
              "      let quickchartButtonEl =\n",
              "        document.querySelector('#df-2093fd34-5215-4bcf-bc9c-60496cf9dcf9 button');\n",
              "      quickchartButtonEl.style.display =\n",
              "        google.colab.kernel.accessAllowed ? 'block' : 'none';\n",
              "    })();\n",
              "  </script>\n",
              "</div>\n",
              "    </div>\n",
              "  </div>\n"
            ]
          },
          "metadata": {},
          "execution_count": 548
        }
      ],
      "source": [
        "data.head()"
      ]
    },
    {
      "cell_type": "code",
      "execution_count": 549,
      "id": "633fe114-2c71-4204-a18d-46ed2fe62f76",
      "metadata": {
        "colab": {
          "base_uri": "https://localhost:8080/"
        },
        "id": "633fe114-2c71-4204-a18d-46ed2fe62f76",
        "outputId": "84c546bd-528f-4e2c-d003-a8f8d9198021"
      },
      "outputs": [
        {
          "output_type": "execute_result",
          "data": {
            "text/plain": [
              "Unnamed: 0    32\n",
              "mpg           32\n",
              "cyl           32\n",
              "disp          32\n",
              "hp            32\n",
              "drat          32\n",
              "wt            32\n",
              "qsec          32\n",
              "vs            32\n",
              "am            32\n",
              "gear          32\n",
              "carb          32\n",
              "dtype: int64"
            ]
          },
          "metadata": {},
          "execution_count": 549
        }
      ],
      "source": [
        "data.count()"
      ]
    },
    {
      "cell_type": "code",
      "execution_count": 550,
      "id": "594e1249-749f-47e8-b30c-30468f1ade06",
      "metadata": {
        "scrolled": true,
        "colab": {
          "base_uri": "https://localhost:8080/",
          "height": 300
        },
        "id": "594e1249-749f-47e8-b30c-30468f1ade06",
        "outputId": "a251f605-e755-4c51-a282-c658441b2d13"
      },
      "outputs": [
        {
          "output_type": "execute_result",
          "data": {
            "text/plain": [
              "             mpg        cyl        disp          hp       drat         wt  \\\n",
              "count  32.000000  32.000000   32.000000   32.000000  32.000000  32.000000   \n",
              "mean   20.090625   6.187500  230.721875  146.687500   3.596563   3.217250   \n",
              "std     6.026948   1.785922  123.938694   68.562868   0.534679   0.978457   \n",
              "min    10.400000   4.000000   71.100000   52.000000   2.760000   1.513000   \n",
              "25%    15.425000   4.000000  120.825000   96.500000   3.080000   2.581250   \n",
              "50%    19.200000   6.000000  196.300000  123.000000   3.695000   3.325000   \n",
              "75%    22.800000   8.000000  326.000000  180.000000   3.920000   3.610000   \n",
              "max    33.900000   8.000000  472.000000  335.000000   4.930000   5.424000   \n",
              "\n",
              "            qsec         vs         am       gear     carb  \n",
              "count  32.000000  32.000000  32.000000  32.000000  32.0000  \n",
              "mean   17.848750   0.437500   0.406250   3.687500   2.8125  \n",
              "std     1.786943   0.504016   0.498991   0.737804   1.6152  \n",
              "min    14.500000   0.000000   0.000000   3.000000   1.0000  \n",
              "25%    16.892500   0.000000   0.000000   3.000000   2.0000  \n",
              "50%    17.710000   0.000000   0.000000   4.000000   2.0000  \n",
              "75%    18.900000   1.000000   1.000000   4.000000   4.0000  \n",
              "max    22.900000   1.000000   1.000000   5.000000   8.0000  "
            ],
            "text/html": [
              "\n",
              "  <div id=\"df-df2fcd3d-1f16-4ff5-9cd1-50a1afd2a1a0\" class=\"colab-df-container\">\n",
              "    <div>\n",
              "<style scoped>\n",
              "    .dataframe tbody tr th:only-of-type {\n",
              "        vertical-align: middle;\n",
              "    }\n",
              "\n",
              "    .dataframe tbody tr th {\n",
              "        vertical-align: top;\n",
              "    }\n",
              "\n",
              "    .dataframe thead th {\n",
              "        text-align: right;\n",
              "    }\n",
              "</style>\n",
              "<table border=\"1\" class=\"dataframe\">\n",
              "  <thead>\n",
              "    <tr style=\"text-align: right;\">\n",
              "      <th></th>\n",
              "      <th>mpg</th>\n",
              "      <th>cyl</th>\n",
              "      <th>disp</th>\n",
              "      <th>hp</th>\n",
              "      <th>drat</th>\n",
              "      <th>wt</th>\n",
              "      <th>qsec</th>\n",
              "      <th>vs</th>\n",
              "      <th>am</th>\n",
              "      <th>gear</th>\n",
              "      <th>carb</th>\n",
              "    </tr>\n",
              "  </thead>\n",
              "  <tbody>\n",
              "    <tr>\n",
              "      <th>count</th>\n",
              "      <td>32.000000</td>\n",
              "      <td>32.000000</td>\n",
              "      <td>32.000000</td>\n",
              "      <td>32.000000</td>\n",
              "      <td>32.000000</td>\n",
              "      <td>32.000000</td>\n",
              "      <td>32.000000</td>\n",
              "      <td>32.000000</td>\n",
              "      <td>32.000000</td>\n",
              "      <td>32.000000</td>\n",
              "      <td>32.0000</td>\n",
              "    </tr>\n",
              "    <tr>\n",
              "      <th>mean</th>\n",
              "      <td>20.090625</td>\n",
              "      <td>6.187500</td>\n",
              "      <td>230.721875</td>\n",
              "      <td>146.687500</td>\n",
              "      <td>3.596563</td>\n",
              "      <td>3.217250</td>\n",
              "      <td>17.848750</td>\n",
              "      <td>0.437500</td>\n",
              "      <td>0.406250</td>\n",
              "      <td>3.687500</td>\n",
              "      <td>2.8125</td>\n",
              "    </tr>\n",
              "    <tr>\n",
              "      <th>std</th>\n",
              "      <td>6.026948</td>\n",
              "      <td>1.785922</td>\n",
              "      <td>123.938694</td>\n",
              "      <td>68.562868</td>\n",
              "      <td>0.534679</td>\n",
              "      <td>0.978457</td>\n",
              "      <td>1.786943</td>\n",
              "      <td>0.504016</td>\n",
              "      <td>0.498991</td>\n",
              "      <td>0.737804</td>\n",
              "      <td>1.6152</td>\n",
              "    </tr>\n",
              "    <tr>\n",
              "      <th>min</th>\n",
              "      <td>10.400000</td>\n",
              "      <td>4.000000</td>\n",
              "      <td>71.100000</td>\n",
              "      <td>52.000000</td>\n",
              "      <td>2.760000</td>\n",
              "      <td>1.513000</td>\n",
              "      <td>14.500000</td>\n",
              "      <td>0.000000</td>\n",
              "      <td>0.000000</td>\n",
              "      <td>3.000000</td>\n",
              "      <td>1.0000</td>\n",
              "    </tr>\n",
              "    <tr>\n",
              "      <th>25%</th>\n",
              "      <td>15.425000</td>\n",
              "      <td>4.000000</td>\n",
              "      <td>120.825000</td>\n",
              "      <td>96.500000</td>\n",
              "      <td>3.080000</td>\n",
              "      <td>2.581250</td>\n",
              "      <td>16.892500</td>\n",
              "      <td>0.000000</td>\n",
              "      <td>0.000000</td>\n",
              "      <td>3.000000</td>\n",
              "      <td>2.0000</td>\n",
              "    </tr>\n",
              "    <tr>\n",
              "      <th>50%</th>\n",
              "      <td>19.200000</td>\n",
              "      <td>6.000000</td>\n",
              "      <td>196.300000</td>\n",
              "      <td>123.000000</td>\n",
              "      <td>3.695000</td>\n",
              "      <td>3.325000</td>\n",
              "      <td>17.710000</td>\n",
              "      <td>0.000000</td>\n",
              "      <td>0.000000</td>\n",
              "      <td>4.000000</td>\n",
              "      <td>2.0000</td>\n",
              "    </tr>\n",
              "    <tr>\n",
              "      <th>75%</th>\n",
              "      <td>22.800000</td>\n",
              "      <td>8.000000</td>\n",
              "      <td>326.000000</td>\n",
              "      <td>180.000000</td>\n",
              "      <td>3.920000</td>\n",
              "      <td>3.610000</td>\n",
              "      <td>18.900000</td>\n",
              "      <td>1.000000</td>\n",
              "      <td>1.000000</td>\n",
              "      <td>4.000000</td>\n",
              "      <td>4.0000</td>\n",
              "    </tr>\n",
              "    <tr>\n",
              "      <th>max</th>\n",
              "      <td>33.900000</td>\n",
              "      <td>8.000000</td>\n",
              "      <td>472.000000</td>\n",
              "      <td>335.000000</td>\n",
              "      <td>4.930000</td>\n",
              "      <td>5.424000</td>\n",
              "      <td>22.900000</td>\n",
              "      <td>1.000000</td>\n",
              "      <td>1.000000</td>\n",
              "      <td>5.000000</td>\n",
              "      <td>8.0000</td>\n",
              "    </tr>\n",
              "  </tbody>\n",
              "</table>\n",
              "</div>\n",
              "    <div class=\"colab-df-buttons\">\n",
              "\n",
              "  <div class=\"colab-df-container\">\n",
              "    <button class=\"colab-df-convert\" onclick=\"convertToInteractive('df-df2fcd3d-1f16-4ff5-9cd1-50a1afd2a1a0')\"\n",
              "            title=\"Convert this dataframe to an interactive table.\"\n",
              "            style=\"display:none;\">\n",
              "\n",
              "  <svg xmlns=\"http://www.w3.org/2000/svg\" height=\"24px\" viewBox=\"0 -960 960 960\">\n",
              "    <path d=\"M120-120v-720h720v720H120Zm60-500h600v-160H180v160Zm220 220h160v-160H400v160Zm0 220h160v-160H400v160ZM180-400h160v-160H180v160Zm440 0h160v-160H620v160ZM180-180h160v-160H180v160Zm440 0h160v-160H620v160Z\"/>\n",
              "  </svg>\n",
              "    </button>\n",
              "\n",
              "  <style>\n",
              "    .colab-df-container {\n",
              "      display:flex;\n",
              "      gap: 12px;\n",
              "    }\n",
              "\n",
              "    .colab-df-convert {\n",
              "      background-color: #E8F0FE;\n",
              "      border: none;\n",
              "      border-radius: 50%;\n",
              "      cursor: pointer;\n",
              "      display: none;\n",
              "      fill: #1967D2;\n",
              "      height: 32px;\n",
              "      padding: 0 0 0 0;\n",
              "      width: 32px;\n",
              "    }\n",
              "\n",
              "    .colab-df-convert:hover {\n",
              "      background-color: #E2EBFA;\n",
              "      box-shadow: 0px 1px 2px rgba(60, 64, 67, 0.3), 0px 1px 3px 1px rgba(60, 64, 67, 0.15);\n",
              "      fill: #174EA6;\n",
              "    }\n",
              "\n",
              "    .colab-df-buttons div {\n",
              "      margin-bottom: 4px;\n",
              "    }\n",
              "\n",
              "    [theme=dark] .colab-df-convert {\n",
              "      background-color: #3B4455;\n",
              "      fill: #D2E3FC;\n",
              "    }\n",
              "\n",
              "    [theme=dark] .colab-df-convert:hover {\n",
              "      background-color: #434B5C;\n",
              "      box-shadow: 0px 1px 3px 1px rgba(0, 0, 0, 0.15);\n",
              "      filter: drop-shadow(0px 1px 2px rgba(0, 0, 0, 0.3));\n",
              "      fill: #FFFFFF;\n",
              "    }\n",
              "  </style>\n",
              "\n",
              "    <script>\n",
              "      const buttonEl =\n",
              "        document.querySelector('#df-df2fcd3d-1f16-4ff5-9cd1-50a1afd2a1a0 button.colab-df-convert');\n",
              "      buttonEl.style.display =\n",
              "        google.colab.kernel.accessAllowed ? 'block' : 'none';\n",
              "\n",
              "      async function convertToInteractive(key) {\n",
              "        const element = document.querySelector('#df-df2fcd3d-1f16-4ff5-9cd1-50a1afd2a1a0');\n",
              "        const dataTable =\n",
              "          await google.colab.kernel.invokeFunction('convertToInteractive',\n",
              "                                                    [key], {});\n",
              "        if (!dataTable) return;\n",
              "\n",
              "        const docLinkHtml = 'Like what you see? Visit the ' +\n",
              "          '<a target=\"_blank\" href=https://colab.research.google.com/notebooks/data_table.ipynb>data table notebook</a>'\n",
              "          + ' to learn more about interactive tables.';\n",
              "        element.innerHTML = '';\n",
              "        dataTable['output_type'] = 'display_data';\n",
              "        await google.colab.output.renderOutput(dataTable, element);\n",
              "        const docLink = document.createElement('div');\n",
              "        docLink.innerHTML = docLinkHtml;\n",
              "        element.appendChild(docLink);\n",
              "      }\n",
              "    </script>\n",
              "  </div>\n",
              "\n",
              "\n",
              "<div id=\"df-37ffb444-e379-405e-b26d-70cfbb94d005\">\n",
              "  <button class=\"colab-df-quickchart\" onclick=\"quickchart('df-37ffb444-e379-405e-b26d-70cfbb94d005')\"\n",
              "            title=\"Suggest charts.\"\n",
              "            style=\"display:none;\">\n",
              "\n",
              "<svg xmlns=\"http://www.w3.org/2000/svg\" height=\"24px\"viewBox=\"0 0 24 24\"\n",
              "     width=\"24px\">\n",
              "    <g>\n",
              "        <path d=\"M19 3H5c-1.1 0-2 .9-2 2v14c0 1.1.9 2 2 2h14c1.1 0 2-.9 2-2V5c0-1.1-.9-2-2-2zM9 17H7v-7h2v7zm4 0h-2V7h2v10zm4 0h-2v-4h2v4z\"/>\n",
              "    </g>\n",
              "</svg>\n",
              "  </button>\n",
              "\n",
              "<style>\n",
              "  .colab-df-quickchart {\n",
              "    background-color: #E8F0FE;\n",
              "    border: none;\n",
              "    border-radius: 50%;\n",
              "    cursor: pointer;\n",
              "    display: none;\n",
              "    fill: #1967D2;\n",
              "    height: 32px;\n",
              "    padding: 0 0 0 0;\n",
              "    width: 32px;\n",
              "  }\n",
              "\n",
              "  .colab-df-quickchart:hover {\n",
              "    background-color: #E2EBFA;\n",
              "    box-shadow: 0px 1px 2px rgba(60, 64, 67, 0.3), 0px 1px 3px 1px rgba(60, 64, 67, 0.15);\n",
              "    fill: #174EA6;\n",
              "  }\n",
              "\n",
              "  [theme=dark] .colab-df-quickchart {\n",
              "    background-color: #3B4455;\n",
              "    fill: #D2E3FC;\n",
              "  }\n",
              "\n",
              "  [theme=dark] .colab-df-quickchart:hover {\n",
              "    background-color: #434B5C;\n",
              "    box-shadow: 0px 1px 3px 1px rgba(0, 0, 0, 0.15);\n",
              "    filter: drop-shadow(0px 1px 2px rgba(0, 0, 0, 0.3));\n",
              "    fill: #FFFFFF;\n",
              "  }\n",
              "</style>\n",
              "\n",
              "  <script>\n",
              "    async function quickchart(key) {\n",
              "      const charts = await google.colab.kernel.invokeFunction(\n",
              "          'suggestCharts', [key], {});\n",
              "    }\n",
              "    (() => {\n",
              "      let quickchartButtonEl =\n",
              "        document.querySelector('#df-37ffb444-e379-405e-b26d-70cfbb94d005 button');\n",
              "      quickchartButtonEl.style.display =\n",
              "        google.colab.kernel.accessAllowed ? 'block' : 'none';\n",
              "    })();\n",
              "  </script>\n",
              "</div>\n",
              "    </div>\n",
              "  </div>\n"
            ]
          },
          "metadata": {},
          "execution_count": 550
        }
      ],
      "source": [
        "data.describe()"
      ]
    },
    {
      "cell_type": "code",
      "execution_count": 551,
      "id": "d733bb95-bbdd-4814-a71e-da2a41e292ab",
      "metadata": {
        "colab": {
          "base_uri": "https://localhost:8080/"
        },
        "id": "d733bb95-bbdd-4814-a71e-da2a41e292ab",
        "outputId": "17f609b6-b80d-4d24-d4ce-e4db9af3bc50"
      },
      "outputs": [
        {
          "output_type": "stream",
          "name": "stdout",
          "text": [
            "<class 'pandas.core.frame.DataFrame'>\n",
            "RangeIndex: 32 entries, 0 to 31\n",
            "Data columns (total 12 columns):\n",
            " #   Column      Non-Null Count  Dtype  \n",
            "---  ------      --------------  -----  \n",
            " 0   Unnamed: 0  32 non-null     object \n",
            " 1   mpg         32 non-null     float64\n",
            " 2   cyl         32 non-null     int64  \n",
            " 3   disp        32 non-null     float64\n",
            " 4   hp          32 non-null     int64  \n",
            " 5   drat        32 non-null     float64\n",
            " 6   wt          32 non-null     float64\n",
            " 7   qsec        32 non-null     float64\n",
            " 8   vs          32 non-null     int64  \n",
            " 9   am          32 non-null     int64  \n",
            " 10  gear        32 non-null     int64  \n",
            " 11  carb        32 non-null     int64  \n",
            "dtypes: float64(5), int64(6), object(1)\n",
            "memory usage: 3.1+ KB\n"
          ]
        }
      ],
      "source": [
        "data.info()"
      ]
    },
    {
      "cell_type": "code",
      "execution_count": 552,
      "id": "fcbf5a40-8254-4267-af97-a479add127c8",
      "metadata": {
        "colab": {
          "base_uri": "https://localhost:8080/"
        },
        "id": "fcbf5a40-8254-4267-af97-a479add127c8",
        "outputId": "3804cf16-de89-49ea-ae5b-c1586ec1305f"
      },
      "outputs": [
        {
          "output_type": "execute_result",
          "data": {
            "text/plain": [
              "Unnamed: 0    0\n",
              "mpg           0\n",
              "cyl           0\n",
              "disp          0\n",
              "hp            0\n",
              "drat          0\n",
              "wt            0\n",
              "qsec          0\n",
              "vs            0\n",
              "am            0\n",
              "gear          0\n",
              "carb          0\n",
              "dtype: int64"
            ]
          },
          "metadata": {},
          "execution_count": 552
        }
      ],
      "source": [
        "data.isna().sum()"
      ]
    },
    {
      "cell_type": "code",
      "execution_count": 553,
      "id": "1859194d-5772-4f0f-aaa0-587890b43879",
      "metadata": {
        "id": "1859194d-5772-4f0f-aaa0-587890b43879"
      },
      "outputs": [],
      "source": [
        "data.drop(columns=['Unnamed: 0'], inplace = True)"
      ]
    },
    {
      "cell_type": "code",
      "execution_count": 554,
      "id": "c06be579-f232-45ac-9116-eba937227e78",
      "metadata": {
        "id": "c06be579-f232-45ac-9116-eba937227e78"
      },
      "outputs": [],
      "source": [
        "x=data.drop(columns=['am'])\n",
        "y=data['am']"
      ]
    },
    {
      "cell_type": "code",
      "execution_count": 555,
      "id": "af826e76-cde9-45e0-8617-0b0bfd9602f6",
      "metadata": {
        "colab": {
          "base_uri": "https://localhost:8080/"
        },
        "id": "af826e76-cde9-45e0-8617-0b0bfd9602f6",
        "outputId": "75726b6a-f365-4ed7-d1d1-c7cfc76eeb41"
      },
      "outputs": [
        {
          "output_type": "execute_result",
          "data": {
            "text/plain": [
              "array([19, 13])"
            ]
          },
          "metadata": {},
          "execution_count": 555
        }
      ],
      "source": [
        "np.bincount(y)"
      ]
    },
    {
      "cell_type": "code",
      "execution_count": 556,
      "id": "ff57aca4-8c1b-41b0-a85c-d9d8a65739d8",
      "metadata": {
        "colab": {
          "base_uri": "https://localhost:8080/",
          "height": 428
        },
        "id": "ff57aca4-8c1b-41b0-a85c-d9d8a65739d8",
        "outputId": "dc5380fc-82d4-4e8b-97a5-73df13aab2f6"
      },
      "outputs": [
        {
          "output_type": "display_data",
          "data": {
            "text/plain": [
              "<Figure size 640x480 with 1 Axes>"
            ],
            "image/png": "[encoded data removed]"
          },
          "metadata": {}
        }
      ],
      "source": [
        "\n",
        "plt.pie(np.bincount(y), labels=['Manual', 'Automatic'])\n",
        "plt.title('Transmission type')\n",
        "plt.show()"
      ]
    },
    {
      "cell_type": "code",
      "execution_count": 557,
      "id": "df2daa5d-5fec-47e9-9b54-0aa17f5992f6",
      "metadata": {
        "colab": {
          "base_uri": "https://localhost:8080/"
        },
        "id": "df2daa5d-5fec-47e9-9b54-0aa17f5992f6",
        "outputId": "99b67c81-b50b-42c3-9f84-69c7b515f6cc"
      },
      "outputs": [
        {
          "output_type": "execute_result",
          "data": {
            "text/plain": [
              "(32, 10)"
            ]
          },
          "metadata": {},
          "execution_count": 557
        }
      ],
      "source": [
        "x.shape"
      ]
    },
    {
      "cell_type": "code",
      "execution_count": 558,
      "id": "dceeef94-d4d6-48f1-922f-855734e98bdd",
      "metadata": {
        "colab": {
          "base_uri": "https://localhost:8080/"
        },
        "id": "dceeef94-d4d6-48f1-922f-855734e98bdd",
        "outputId": "b07520d5-45fb-4903-a1fc-9345ef4867bf"
      },
      "outputs": [
        {
          "output_type": "execute_result",
          "data": {
            "text/plain": [
              "(32,)"
            ]
          },
          "metadata": {},
          "execution_count": 558
        }
      ],
      "source": [
        "y.shape"
      ]
    },
    {
      "cell_type": "code",
      "execution_count": 559,
      "id": "64077351-0762-4e35-b24d-5d5e780b9c9d",
      "metadata": {
        "id": "64077351-0762-4e35-b24d-5d5e780b9c9d"
      },
      "outputs": [],
      "source": [
        "feature_names = x.columns"
      ]
    },
    {
      "cell_type": "code",
      "execution_count": 560,
      "id": "0a00b08f-25c7-4de7-83f2-341b868f0eea",
      "metadata": {
        "colab": {
          "base_uri": "https://localhost:8080/",
          "height": 206
        },
        "id": "0a00b08f-25c7-4de7-83f2-341b868f0eea",
        "outputId": "2f768931-d757-4702-fd20-0221131bc099"
      },
      "outputs": [
        {
          "output_type": "execute_result",
          "data": {
            "text/plain": [
              "    mpg  cyl   disp   hp  drat     wt   qsec  vs  gear  carb\n",
              "0  21.0    6  160.0  110  3.90  2.620  16.46   0     4     4\n",
              "1  21.0    6  160.0  110  3.90  2.875  17.02   0     4     4\n",
              "2  22.8    4  108.0   93  3.85  2.320  18.61   1     4     1\n",
              "3  21.4    6  258.0  110  3.08  3.215  19.44   1     3     1\n",
              "4  18.7    8  360.0  175  3.15  3.440  17.02   0     3     2"
            ],
            "text/html": [
              "\n",
              "  <div id=\"df-37e82a61-b494-4730-b375-2cbbbd13d75f\" class=\"colab-df-container\">\n",
              "    <div>\n",
              "<style scoped>\n",
              "    .dataframe tbody tr th:only-of-type {\n",
              "        vertical-align: middle;\n",
              "    }\n",
              "\n",
              "    .dataframe tbody tr th {\n",
              "        vertical-align: top;\n",
              "    }\n",
              "\n",
              "    .dataframe thead th {\n",
              "        text-align: right;\n",
              "    }\n",
              "</style>\n",
              "<table border=\"1\" class=\"dataframe\">\n",
              "  <thead>\n",
              "    <tr style=\"text-align: right;\">\n",
              "      <th></th>\n",
              "      <th>mpg</th>\n",
              "      <th>cyl</th>\n",
              "      <th>disp</th>\n",
              "      <th>hp</th>\n",
              "      <th>drat</th>\n",
              "      <th>wt</th>\n",
              "      <th>qsec</th>\n",
              "      <th>vs</th>\n",
              "      <th>gear</th>\n",
              "      <th>carb</th>\n",
              "    </tr>\n",
              "  </thead>\n",
              "  <tbody>\n",
              "    <tr>\n",
              "      <th>0</th>\n",
              "      <td>21.0</td>\n",
              "      <td>6</td>\n",
              "      <td>160.0</td>\n",
              "      <td>110</td>\n",
              "      <td>3.90</td>\n",
              "      <td>2.620</td>\n",
              "      <td>16.46</td>\n",
              "      <td>0</td>\n",
              "      <td>4</td>\n",
              "      <td>4</td>\n",
              "    </tr>\n",
              "    <tr>\n",
              "      <th>1</th>\n",
              "      <td>21.0</td>\n",
              "      <td>6</td>\n",
              "      <td>160.0</td>\n",
              "      <td>110</td>\n",
              "      <td>3.90</td>\n",
              "      <td>2.875</td>\n",
              "      <td>17.02</td>\n",
              "      <td>0</td>\n",
              "      <td>4</td>\n",
              "      <td>4</td>\n",
              "    </tr>\n",
              "    <tr>\n",
              "      <th>2</th>\n",
              "      <td>22.8</td>\n",
              "      <td>4</td>\n",
              "      <td>108.0</td>\n",
              "      <td>93</td>\n",
              "      <td>3.85</td>\n",
              "      <td>2.320</td>\n",
              "      <td>18.61</td>\n",
              "      <td>1</td>\n",
              "      <td>4</td>\n",
              "      <td>1</td>\n",
              "    </tr>\n",
              "    <tr>\n",
              "      <th>3</th>\n",
              "      <td>21.4</td>\n",
              "      <td>6</td>\n",
              "      <td>258.0</td>\n",
              "      <td>110</td>\n",
              "      <td>3.08</td>\n",
              "      <td>3.215</td>\n",
              "      <td>19.44</td>\n",
              "      <td>1</td>\n",
              "      <td>3</td>\n",
              "      <td>1</td>\n",
              "    </tr>\n",
              "    <tr>\n",
              "      <th>4</th>\n",
              "      <td>18.7</td>\n",
              "      <td>8</td>\n",
              "      <td>360.0</td>\n",
              "      <td>175</td>\n",
              "      <td>3.15</td>\n",
              "      <td>3.440</td>\n",
              "      <td>17.02</td>\n",
              "      <td>0</td>\n",
              "      <td>3</td>\n",
              "      <td>2</td>\n",
              "    </tr>\n",
              "  </tbody>\n",
              "</table>\n",
              "</div>\n",
              "    <div class=\"colab-df-buttons\">\n",
              "\n",
              "  <div class=\"colab-df-container\">\n",
              "    <button class=\"colab-df-convert\" onclick=\"convertToInteractive('df-37e82a61-b494-4730-b375-2cbbbd13d75f')\"\n",
              "            title=\"Convert this dataframe to an interactive table.\"\n",
              "            style=\"display:none;\">\n",
              "\n",
              "  <svg xmlns=\"http://www.w3.org/2000/svg\" height=\"24px\" viewBox=\"0 -960 960 960\">\n",
              "    <path d=\"M120-120v-720h720v720H120Zm60-500h600v-160H180v160Zm220 220h160v-160H400v160Zm0 220h160v-160H400v160ZM180-400h160v-160H180v160Zm440 0h160v-160H620v160ZM180-180h160v-160H180v160Zm440 0h160v-160H620v160Z\"/>\n",
              "  </svg>\n",
              "    </button>\n",
              "\n",
              "  <style>\n",
              "    .colab-df-container {\n",
              "      display:flex;\n",
              "      gap: 12px;\n",
              "    }\n",
              "\n",
              "    .colab-df-convert {\n",
              "      background-color: #E8F0FE;\n",
              "      border: none;\n",
              "      border-radius: 50%;\n",
              "      cursor: pointer;\n",
              "      display: none;\n",
              "      fill: #1967D2;\n",
              "      height: 32px;\n",
              "      padding: 0 0 0 0;\n",
              "      width: 32px;\n",
              "    }\n",
              "\n",
              "    .colab-df-convert:hover {\n",
              "      background-color: #E2EBFA;\n",
              "      box-shadow: 0px 1px 2px rgba(60, 64, 67, 0.3), 0px 1px 3px 1px rgba(60, 64, 67, 0.15);\n",
              "      fill: #174EA6;\n",
              "    }\n",
              "\n",
              "    .colab-df-buttons div {\n",
              "      margin-bottom: 4px;\n",
              "    }\n",
              "\n",
              "    [theme=dark] .colab-df-convert {\n",
              "      background-color: #3B4455;\n",
              "      fill: #D2E3FC;\n",
              "    }\n",
              "\n",
              "    [theme=dark] .colab-df-convert:hover {\n",
              "      background-color: #434B5C;\n",
              "      box-shadow: 0px 1px 3px 1px rgba(0, 0, 0, 0.15);\n",
              "      filter: drop-shadow(0px 1px 2px rgba(0, 0, 0, 0.3));\n",
              "      fill: #FFFFFF;\n",
              "    }\n",
              "  </style>\n",
              "\n",
              "    <script>\n",
              "      const buttonEl =\n",
              "        document.querySelector('#df-37e82a61-b494-4730-b375-2cbbbd13d75f button.colab-df-convert');\n",
              "      buttonEl.style.display =\n",
              "        google.colab.kernel.accessAllowed ? 'block' : 'none';\n",
              "\n",
              "      async function convertToInteractive(key) {\n",
              "        const element = document.querySelector('#df-37e82a61-b494-4730-b375-2cbbbd13d75f');\n",
              "        const dataTable =\n",
              "          await google.colab.kernel.invokeFunction('convertToInteractive',\n",
              "                                                    [key], {});\n",
              "        if (!dataTable) return;\n",
              "\n",
              "        const docLinkHtml = 'Like what you see? Visit the ' +\n",
              "          '<a target=\"_blank\" href=https://colab.research.google.com/notebooks/data_table.ipynb>data table notebook</a>'\n",
              "          + ' to learn more about interactive tables.';\n",
              "        element.innerHTML = '';\n",
              "        dataTable['output_type'] = 'display_data';\n",
              "        await google.colab.output.renderOutput(dataTable, element);\n",
              "        const docLink = document.createElement('div');\n",
              "        docLink.innerHTML = docLinkHtml;\n",
              "        element.appendChild(docLink);\n",
              "      }\n",
              "    </script>\n",
              "  </div>\n",
              "\n",
              "\n",
              "<div id=\"df-83053646-e9f7-43cb-8adb-908ddd44d6d7\">\n",
              "  <button class=\"colab-df-quickchart\" onclick=\"quickchart('df-83053646-e9f7-43cb-8adb-908ddd44d6d7')\"\n",
              "            title=\"Suggest charts.\"\n",
              "            style=\"display:none;\">\n",
              "\n",
              "<svg xmlns=\"http://www.w3.org/2000/svg\" height=\"24px\"viewBox=\"0 0 24 24\"\n",
              "     width=\"24px\">\n",
              "    <g>\n",
              "        <path d=\"M19 3H5c-1.1 0-2 .9-2 2v14c0 1.1.9 2 2 2h14c1.1 0 2-.9 2-2V5c0-1.1-.9-2-2-2zM9 17H7v-7h2v7zm4 0h-2V7h2v10zm4 0h-2v-4h2v4z\"/>\n",
              "    </g>\n",
              "</svg>\n",
              "  </button>\n",
              "\n",
              "<style>\n",
              "  .colab-df-quickchart {\n",
              "    background-color: #E8F0FE;\n",
              "    border: none;\n",
              "    border-radius: 50%;\n",
              "    cursor: pointer;\n",
              "    display: none;\n",
              "    fill: #1967D2;\n",
              "    height: 32px;\n",
              "    padding: 0 0 0 0;\n",
              "    width: 32px;\n",
              "  }\n",
              "\n",
              "  .colab-df-quickchart:hover {\n",
              "    background-color: #E2EBFA;\n",
              "    box-shadow: 0px 1px 2px rgba(60, 64, 67, 0.3), 0px 1px 3px 1px rgba(60, 64, 67, 0.15);\n",
              "    fill: #174EA6;\n",
              "  }\n",
              "\n",
              "  [theme=dark] .colab-df-quickchart {\n",
              "    background-color: #3B4455;\n",
              "    fill: #D2E3FC;\n",
              "  }\n",
              "\n",
              "  [theme=dark] .colab-df-quickchart:hover {\n",
              "    background-color: #434B5C;\n",
              "    box-shadow: 0px 1px 3px 1px rgba(0, 0, 0, 0.15);\n",
              "    filter: drop-shadow(0px 1px 2px rgba(0, 0, 0, 0.3));\n",
              "    fill: #FFFFFF;\n",
              "  }\n",
              "</style>\n",
              "\n",
              "  <script>\n",
              "    async function quickchart(key) {\n",
              "      const charts = await google.colab.kernel.invokeFunction(\n",
              "          'suggestCharts', [key], {});\n",
              "    }\n",
              "    (() => {\n",
              "      let quickchartButtonEl =\n",
              "        document.querySelector('#df-83053646-e9f7-43cb-8adb-908ddd44d6d7 button');\n",
              "      quickchartButtonEl.style.display =\n",
              "        google.colab.kernel.accessAllowed ? 'block' : 'none';\n",
              "    })();\n",
              "  </script>\n",
              "</div>\n",
              "    </div>\n",
              "  </div>\n"
            ]
          },
          "metadata": {},
          "execution_count": 560
        }
      ],
      "source": [
        "x.head()"
      ]
    },
    {
      "cell_type": "code",
      "execution_count": 561,
      "id": "002f84d3-7114-467f-86a4-554ef4c5471a",
      "metadata": {
        "colab": {
          "base_uri": "https://localhost:8080/"
        },
        "id": "002f84d3-7114-467f-86a4-554ef4c5471a",
        "outputId": "795fb892-4d2e-49dd-cf57-35e9adefdaeb"
      },
      "outputs": [
        {
          "output_type": "execute_result",
          "data": {
            "text/plain": [
              "Index(['mpg', 'cyl', 'disp', 'hp', 'drat', 'wt', 'qsec', 'vs', 'gear', 'carb'], dtype='object')"
            ]
          },
          "metadata": {},
          "execution_count": 561
        }
      ],
      "source": [
        "feature_names"
      ]
    },
    {
      "cell_type": "code",
      "source": [
        "descriptive_feature_names = \t{'mpg':\t'Miles/(US) gallon',\n",
        "'cyl'\t:'Number of cylinders',\n",
        "'disp':\t'Displacement (cu.in.)',\n",
        "'hp':\t'Gross horsepower',\n",
        "'drat':\t'Rear axle ratio',\n",
        "'wt':\t'Weight (1000 lbs)',\n",
        "'qsec':\t'1/4 mile time',\n",
        "'vs':\t'Engine (0 = V-shaped, 1 = straight)',\n",
        "'am':\t'Transmission (0 = automatic, 1 = manual)',\n",
        "'gear':\t'Number of forward gears',\n",
        "'carb':\t'Number of carburetors'\n",
        "  }"
      ],
      "metadata": {
        "id": "VYatOWyIs-xr"
      },
      "id": "VYatOWyIs-xr",
      "execution_count": 562,
      "outputs": []
    },
    {
      "cell_type": "code",
      "execution_count": 563,
      "id": "b54e266e-edd9-4ee4-98d7-0d75b7c857fe",
      "metadata": {
        "id": "b54e266e-edd9-4ee4-98d7-0d75b7c857fe"
      },
      "outputs": [],
      "source": [
        "number_of_features = len(feature_names)"
      ]
    },
    {
      "cell_type": "code",
      "execution_count": 564,
      "id": "c65058ac-18d1-40cb-bd43-73b1b99c06c4",
      "metadata": {
        "colab": {
          "base_uri": "https://localhost:8080/"
        },
        "id": "c65058ac-18d1-40cb-bd43-73b1b99c06c4",
        "outputId": "a1194aba-86c4-4fb4-bc20-df62061c5f55"
      },
      "outputs": [
        {
          "output_type": "execute_result",
          "data": {
            "text/plain": [
              "10"
            ]
          },
          "metadata": {},
          "execution_count": 564
        }
      ],
      "source": [
        "number_of_features"
      ]
    },
    {
      "cell_type": "code",
      "execution_count": 565,
      "id": "6ba16af8-7e80-43f8-a7f2-a9cff2ed7a31",
      "metadata": {
        "colab": {
          "base_uri": "https://localhost:8080/",
          "height": 1000
        },
        "id": "6ba16af8-7e80-43f8-a7f2-a9cff2ed7a31",
        "outputId": "bad3b4fd-dabb-4c79-c240-278a4222224a"
      },
      "outputs": [
        {
          "output_type": "display_data",
          "data": {
            "text/plain": [
              "<Figure size 1000x2500 with 10 Axes>"
            ],
            "image/png": "[encoded data removed]"
          },
          "metadata": {}
        }
      ],
      "source": [
        "fig = plt.figure(figsize = (10,25))\n",
        "fig.tight_layout(pad=5.0)\n",
        "for i, feature in zip(range(number_of_features), feature_names):\n",
        "    feature_type = np.dtype(x[feature].dtype)\n",
        "    plt.subplot(5,2,i+1)\n",
        "    plt.title(descriptive_feature_names[feature])\n",
        "\n",
        "    plt.hist(x[feature])\n",
        "\n",
        "    i+=1\n",
        "plt.show()"
      ]
    },
    {
      "cell_type": "code",
      "execution_count": 565,
      "id": "b6842a07-b343-4879-9438-9fc9e8ab4e7d",
      "metadata": {
        "id": "b6842a07-b343-4879-9438-9fc9e8ab4e7d"
      },
      "outputs": [],
      "source": []
    },
    {
      "cell_type": "code",
      "execution_count": 566,
      "id": "bc4a235b-22a3-4646-93e3-69f14e97dc9b",
      "metadata": {
        "id": "bc4a235b-22a3-4646-93e3-69f14e97dc9b",
        "colab": {
          "base_uri": "https://localhost:8080/"
        },
        "outputId": "1257d9ad-0d50-4c08-f050-500de94f0c44"
      },
      "outputs": [
        {
          "output_type": "stream",
          "name": "stdout",
          "text": [
            "mpg 0.599832429454648\n",
            "cyl -0.5226070469006754\n",
            "disp -0.5912270400639476\n",
            "hp -0.24320425718585106\n",
            "drat 0.7127111272262697\n",
            "wt -0.6924952588394844\n",
            "qsec -0.22986086218488297\n",
            "vs 0.16834512458535864\n",
            "gear 0.7940587602563435\n",
            "carb 0.057534351070504114\n"
          ]
        }
      ],
      "source": [
        "corrcoefs = []\n",
        "for feature_name in feature_names:\n",
        "    corrcoef = np.corrcoef(x[feature_name].values, y.values.ravel())[0, 1]\n",
        "    corrcoefs.append(corrcoef)\n",
        "    print(feature_name, corrcoef)"
      ]
    },
    {
      "cell_type": "code",
      "execution_count": 567,
      "id": "8b363345-5160-4b41-8a4e-4e2366630727",
      "metadata": {
        "id": "8b363345-5160-4b41-8a4e-4e2366630727",
        "colab": {
          "base_uri": "https://localhost:8080/",
          "height": 472
        },
        "outputId": "24ef188f-69f5-4615-bd16-8383a2f0b602"
      },
      "outputs": [
        {
          "output_type": "display_data",
          "data": {
            "text/plain": [
              "<Figure size 640x480 with 1 Axes>"
            ],
            "image/png": "[encoded data removed]"
          },
          "metadata": {}
        }
      ],
      "source": [
        "corrcoefs_for_plot = pd.Series(corrcoefs, index=feature_names)\n",
        "corrcoefs_for_plot.sort_values(inplace=True)\n",
        "\n",
        "corrcoefs_for_plot.plot(kind='barh', color='orange')\n",
        "plt.title('Feature correlations to the target variable AM')\n",
        "plt.xlabel('Pearson correlation coefficient value')\n",
        "plt.ylabel('Feature name')\n",
        "plt.show()"
      ]
    },
    {
      "cell_type": "code",
      "execution_count": 568,
      "id": "fa5b1f99-7990-45ac-b276-1c1e6b623c2c",
      "metadata": {
        "id": "fa5b1f99-7990-45ac-b276-1c1e6b623c2c"
      },
      "outputs": [],
      "source": [
        "correlated_feature_names = feature_names[np.abs(corrcoefs) > 0.5]"
      ]
    },
    {
      "cell_type": "code",
      "execution_count": 569,
      "id": "f022eb37-4849-4113-87b4-642ffad665fc",
      "metadata": {
        "id": "f022eb37-4849-4113-87b4-642ffad665fc",
        "colab": {
          "base_uri": "https://localhost:8080/",
          "height": 812
        },
        "outputId": "9abbc95e-dbe2-42d3-bb40-4fe0a95a822b"
      },
      "outputs": [
        {
          "output_type": "display_data",
          "data": {
            "text/plain": [
              "<Figure size 800x1000 with 2 Axes>"
            ],
            "image/png": "[encoded data removed]"
          },
          "metadata": {}
        }
      ],
      "source": [
        "correlation_matrix = x.corr()\n",
        "\n",
        "plt.figure(figsize=(8, 10))\n",
        "plt.xticks(range(number_of_features), feature_names, rotation='vertical')\n",
        "plt.yticks(range(number_of_features), feature_names)\n",
        "plt.imshow(correlation_matrix, cmap='ocean')\n",
        "plt.colorbar()\n",
        "plt.show()"
      ]
    },
    {
      "cell_type": "code",
      "execution_count": 570,
      "id": "85d9b264-3c2a-499f-a678-2f6043daf7ca",
      "metadata": {
        "id": "85d9b264-3c2a-499f-a678-2f6043daf7ca"
      },
      "outputs": [],
      "source": [
        "def correlation_strength(value, threshold=0.8):\n",
        "    if np.abs(value) < threshold:\n",
        "        return 0\n",
        "    else:\n",
        "        return np.abs(value)"
      ]
    },
    {
      "cell_type": "code",
      "execution_count": 571,
      "id": "a845e5fd-a830-43b1-8c4a-17384af3bc0d",
      "metadata": {
        "id": "a845e5fd-a830-43b1-8c4a-17384af3bc0d"
      },
      "outputs": [],
      "source": [
        "correlation_matrix_highly_corr = correlation_matrix.applymap(correlation_strength)"
      ]
    },
    {
      "cell_type": "code",
      "execution_count": 572,
      "id": "4489c24b-d5dd-4fb2-a2e7-728f09570c67",
      "metadata": {
        "id": "4489c24b-d5dd-4fb2-a2e7-728f09570c67",
        "colab": {
          "base_uri": "https://localhost:8080/",
          "height": 363
        },
        "outputId": "ed897983-f83d-46a3-f391-33f1cd765d4c"
      },
      "outputs": [
        {
          "output_type": "execute_result",
          "data": {
            "text/plain": [
              "<pandas.io.formats.style.Styler at 0x7cbc6d9ce800>"
            ],
            "text/html": [
              "<style type=\"text/css\">\n",
              "#T_bc1b5_row0_col0, #T_bc1b5_row1_col1, #T_bc1b5_row2_col2, #T_bc1b5_row3_col3, #T_bc1b5_row4_col4, #T_bc1b5_row5_col5, #T_bc1b5_row6_col6, #T_bc1b5_row7_col7, #T_bc1b5_row8_col8, #T_bc1b5_row9_col9 {\n",
              "  background-color: #ffffff;\n",
              "  color: #000000;\n",
              "}\n",
              "#T_bc1b5_row0_col1, #T_bc1b5_row1_col0 {\n",
              "  background-color: #dadada;\n",
              "  color: #000000;\n",
              "}\n",
              "#T_bc1b5_row0_col2, #T_bc1b5_row2_col0 {\n",
              "  background-color: #d8d8d8;\n",
              "  color: #000000;\n",
              "}\n",
              "#T_bc1b5_row0_col3, #T_bc1b5_row0_col4, #T_bc1b5_row0_col6, #T_bc1b5_row0_col7, #T_bc1b5_row0_col8, #T_bc1b5_row0_col9, #T_bc1b5_row1_col4, #T_bc1b5_row1_col5, #T_bc1b5_row1_col6, #T_bc1b5_row1_col8, #T_bc1b5_row1_col9, #T_bc1b5_row2_col3, #T_bc1b5_row2_col4, #T_bc1b5_row2_col6, #T_bc1b5_row2_col7, #T_bc1b5_row2_col8, #T_bc1b5_row2_col9, #T_bc1b5_row3_col0, #T_bc1b5_row3_col2, #T_bc1b5_row3_col4, #T_bc1b5_row3_col5, #T_bc1b5_row3_col6, #T_bc1b5_row3_col7, #T_bc1b5_row3_col8, #T_bc1b5_row3_col9, #T_bc1b5_row4_col0, #T_bc1b5_row4_col1, #T_bc1b5_row4_col2, #T_bc1b5_row4_col3, #T_bc1b5_row4_col5, #T_bc1b5_row4_col6, #T_bc1b5_row4_col7, #T_bc1b5_row4_col8, #T_bc1b5_row4_col9, #T_bc1b5_row5_col1, #T_bc1b5_row5_col3, #T_bc1b5_row5_col4, #T_bc1b5_row5_col6, #T_bc1b5_row5_col7, #T_bc1b5_row5_col8, #T_bc1b5_row5_col9, #T_bc1b5_row6_col0, #T_bc1b5_row6_col1, #T_bc1b5_row6_col2, #T_bc1b5_row6_col3, #T_bc1b5_row6_col4, #T_bc1b5_row6_col5, #T_bc1b5_row6_col7, #T_bc1b5_row6_col8, #T_bc1b5_row6_col9, #T_bc1b5_row7_col0, #T_bc1b5_row7_col2, #T_bc1b5_row7_col3, #T_bc1b5_row7_col4, #T_bc1b5_row7_col5, #T_bc1b5_row7_col6, #T_bc1b5_row7_col8, #T_bc1b5_row7_col9, #T_bc1b5_row8_col0, #T_bc1b5_row8_col1, #T_bc1b5_row8_col2, #T_bc1b5_row8_col3, #T_bc1b5_row8_col4, #T_bc1b5_row8_col5, #T_bc1b5_row8_col6, #T_bc1b5_row8_col7, #T_bc1b5_row8_col9, #T_bc1b5_row9_col0, #T_bc1b5_row9_col1, #T_bc1b5_row9_col2, #T_bc1b5_row9_col3, #T_bc1b5_row9_col4, #T_bc1b5_row9_col5, #T_bc1b5_row9_col6, #T_bc1b5_row9_col7, #T_bc1b5_row9_col8 {\n",
              "  background-color: #000000;\n",
              "  color: #f1f1f1;\n",
              "}\n",
              "#T_bc1b5_row0_col5, #T_bc1b5_row5_col0 {\n",
              "  background-color: #dedede;\n",
              "  color: #000000;\n",
              "}\n",
              "#T_bc1b5_row1_col2, #T_bc1b5_row2_col1 {\n",
              "  background-color: #e6e6e6;\n",
              "  color: #000000;\n",
              "}\n",
              "#T_bc1b5_row1_col3, #T_bc1b5_row3_col1 {\n",
              "  background-color: #d5d5d5;\n",
              "  color: #000000;\n",
              "}\n",
              "#T_bc1b5_row1_col7, #T_bc1b5_row7_col1 {\n",
              "  background-color: #cfcfcf;\n",
              "  color: #000000;\n",
              "}\n",
              "#T_bc1b5_row2_col5, #T_bc1b5_row5_col2 {\n",
              "  background-color: #e3e3e3;\n",
              "  color: #000000;\n",
              "}\n",
              "</style>\n",
              "<table id=\"T_bc1b5\" class=\"dataframe\">\n",
              "  <thead>\n",
              "    <tr>\n",
              "      <th class=\"blank level0\" >&nbsp;</th>\n",
              "      <th id=\"T_bc1b5_level0_col0\" class=\"col_heading level0 col0\" >mpg</th>\n",
              "      <th id=\"T_bc1b5_level0_col1\" class=\"col_heading level0 col1\" >cyl</th>\n",
              "      <th id=\"T_bc1b5_level0_col2\" class=\"col_heading level0 col2\" >disp</th>\n",
              "      <th id=\"T_bc1b5_level0_col3\" class=\"col_heading level0 col3\" >hp</th>\n",
              "      <th id=\"T_bc1b5_level0_col4\" class=\"col_heading level0 col4\" >drat</th>\n",
              "      <th id=\"T_bc1b5_level0_col5\" class=\"col_heading level0 col5\" >wt</th>\n",
              "      <th id=\"T_bc1b5_level0_col6\" class=\"col_heading level0 col6\" >qsec</th>\n",
              "      <th id=\"T_bc1b5_level0_col7\" class=\"col_heading level0 col7\" >vs</th>\n",
              "      <th id=\"T_bc1b5_level0_col8\" class=\"col_heading level0 col8\" >gear</th>\n",
              "      <th id=\"T_bc1b5_level0_col9\" class=\"col_heading level0 col9\" >carb</th>\n",
              "    </tr>\n",
              "  </thead>\n",
              "  <tbody>\n",
              "    <tr>\n",
              "      <th id=\"T_bc1b5_level0_row0\" class=\"row_heading level0 row0\" >mpg</th>\n",
              "      <td id=\"T_bc1b5_row0_col0\" class=\"data row0 col0\" >1.00</td>\n",
              "      <td id=\"T_bc1b5_row0_col1\" class=\"data row0 col1\" >0.85</td>\n",
              "      <td id=\"T_bc1b5_row0_col2\" class=\"data row0 col2\" >0.85</td>\n",
              "      <td id=\"T_bc1b5_row0_col3\" class=\"data row0 col3\" >0.00</td>\n",
              "      <td id=\"T_bc1b5_row0_col4\" class=\"data row0 col4\" >0.00</td>\n",
              "      <td id=\"T_bc1b5_row0_col5\" class=\"data row0 col5\" >0.87</td>\n",
              "      <td id=\"T_bc1b5_row0_col6\" class=\"data row0 col6\" >0.00</td>\n",
              "      <td id=\"T_bc1b5_row0_col7\" class=\"data row0 col7\" >0.00</td>\n",
              "      <td id=\"T_bc1b5_row0_col8\" class=\"data row0 col8\" >0.00</td>\n",
              "      <td id=\"T_bc1b5_row0_col9\" class=\"data row0 col9\" >0.00</td>\n",
              "    </tr>\n",
              "    <tr>\n",
              "      <th id=\"T_bc1b5_level0_row1\" class=\"row_heading level0 row1\" >cyl</th>\n",
              "      <td id=\"T_bc1b5_row1_col0\" class=\"data row1 col0\" >0.85</td>\n",
              "      <td id=\"T_bc1b5_row1_col1\" class=\"data row1 col1\" >1.00</td>\n",
              "      <td id=\"T_bc1b5_row1_col2\" class=\"data row1 col2\" >0.90</td>\n",
              "      <td id=\"T_bc1b5_row1_col3\" class=\"data row1 col3\" >0.83</td>\n",
              "      <td id=\"T_bc1b5_row1_col4\" class=\"data row1 col4\" >0.00</td>\n",
              "      <td id=\"T_bc1b5_row1_col5\" class=\"data row1 col5\" >0.00</td>\n",
              "      <td id=\"T_bc1b5_row1_col6\" class=\"data row1 col6\" >0.00</td>\n",
              "      <td id=\"T_bc1b5_row1_col7\" class=\"data row1 col7\" >0.81</td>\n",
              "      <td id=\"T_bc1b5_row1_col8\" class=\"data row1 col8\" >0.00</td>\n",
              "      <td id=\"T_bc1b5_row1_col9\" class=\"data row1 col9\" >0.00</td>\n",
              "    </tr>\n",
              "    <tr>\n",
              "      <th id=\"T_bc1b5_level0_row2\" class=\"row_heading level0 row2\" >disp</th>\n",
              "      <td id=\"T_bc1b5_row2_col0\" class=\"data row2 col0\" >0.85</td>\n",
              "      <td id=\"T_bc1b5_row2_col1\" class=\"data row2 col1\" >0.90</td>\n",
              "      <td id=\"T_bc1b5_row2_col2\" class=\"data row2 col2\" >1.00</td>\n",
              "      <td id=\"T_bc1b5_row2_col3\" class=\"data row2 col3\" >0.00</td>\n",
              "      <td id=\"T_bc1b5_row2_col4\" class=\"data row2 col4\" >0.00</td>\n",
              "      <td id=\"T_bc1b5_row2_col5\" class=\"data row2 col5\" >0.89</td>\n",
              "      <td id=\"T_bc1b5_row2_col6\" class=\"data row2 col6\" >0.00</td>\n",
              "      <td id=\"T_bc1b5_row2_col7\" class=\"data row2 col7\" >0.00</td>\n",
              "      <td id=\"T_bc1b5_row2_col8\" class=\"data row2 col8\" >0.00</td>\n",
              "      <td id=\"T_bc1b5_row2_col9\" class=\"data row2 col9\" >0.00</td>\n",
              "    </tr>\n",
              "    <tr>\n",
              "      <th id=\"T_bc1b5_level0_row3\" class=\"row_heading level0 row3\" >hp</th>\n",
              "      <td id=\"T_bc1b5_row3_col0\" class=\"data row3 col0\" >0.00</td>\n",
              "      <td id=\"T_bc1b5_row3_col1\" class=\"data row3 col1\" >0.83</td>\n",
              "      <td id=\"T_bc1b5_row3_col2\" class=\"data row3 col2\" >0.00</td>\n",
              "      <td id=\"T_bc1b5_row3_col3\" class=\"data row3 col3\" >1.00</td>\n",
              "      <td id=\"T_bc1b5_row3_col4\" class=\"data row3 col4\" >0.00</td>\n",
              "      <td id=\"T_bc1b5_row3_col5\" class=\"data row3 col5\" >0.00</td>\n",
              "      <td id=\"T_bc1b5_row3_col6\" class=\"data row3 col6\" >0.00</td>\n",
              "      <td id=\"T_bc1b5_row3_col7\" class=\"data row3 col7\" >0.00</td>\n",
              "      <td id=\"T_bc1b5_row3_col8\" class=\"data row3 col8\" >0.00</td>\n",
              "      <td id=\"T_bc1b5_row3_col9\" class=\"data row3 col9\" >0.00</td>\n",
              "    </tr>\n",
              "    <tr>\n",
              "      <th id=\"T_bc1b5_level0_row4\" class=\"row_heading level0 row4\" >drat</th>\n",
              "      <td id=\"T_bc1b5_row4_col0\" class=\"data row4 col0\" >0.00</td>\n",
              "      <td id=\"T_bc1b5_row4_col1\" class=\"data row4 col1\" >0.00</td>\n",
              "      <td id=\"T_bc1b5_row4_col2\" class=\"data row4 col2\" >0.00</td>\n",
              "      <td id=\"T_bc1b5_row4_col3\" class=\"data row4 col3\" >0.00</td>\n",
              "      <td id=\"T_bc1b5_row4_col4\" class=\"data row4 col4\" >1.00</td>\n",
              "      <td id=\"T_bc1b5_row4_col5\" class=\"data row4 col5\" >0.00</td>\n",
              "      <td id=\"T_bc1b5_row4_col6\" class=\"data row4 col6\" >0.00</td>\n",
              "      <td id=\"T_bc1b5_row4_col7\" class=\"data row4 col7\" >0.00</td>\n",
              "      <td id=\"T_bc1b5_row4_col8\" class=\"data row4 col8\" >0.00</td>\n",
              "      <td id=\"T_bc1b5_row4_col9\" class=\"data row4 col9\" >0.00</td>\n",
              "    </tr>\n",
              "    <tr>\n",
              "      <th id=\"T_bc1b5_level0_row5\" class=\"row_heading level0 row5\" >wt</th>\n",
              "      <td id=\"T_bc1b5_row5_col0\" class=\"data row5 col0\" >0.87</td>\n",
              "      <td id=\"T_bc1b5_row5_col1\" class=\"data row5 col1\" >0.00</td>\n",
              "      <td id=\"T_bc1b5_row5_col2\" class=\"data row5 col2\" >0.89</td>\n",
              "      <td id=\"T_bc1b5_row5_col3\" class=\"data row5 col3\" >0.00</td>\n",
              "      <td id=\"T_bc1b5_row5_col4\" class=\"data row5 col4\" >0.00</td>\n",
              "      <td id=\"T_bc1b5_row5_col5\" class=\"data row5 col5\" >1.00</td>\n",
              "      <td id=\"T_bc1b5_row5_col6\" class=\"data row5 col6\" >0.00</td>\n",
              "      <td id=\"T_bc1b5_row5_col7\" class=\"data row5 col7\" >0.00</td>\n",
              "      <td id=\"T_bc1b5_row5_col8\" class=\"data row5 col8\" >0.00</td>\n",
              "      <td id=\"T_bc1b5_row5_col9\" class=\"data row5 col9\" >0.00</td>\n",
              "    </tr>\n",
              "    <tr>\n",
              "      <th id=\"T_bc1b5_level0_row6\" class=\"row_heading level0 row6\" >qsec</th>\n",
              "      <td id=\"T_bc1b5_row6_col0\" class=\"data row6 col0\" >0.00</td>\n",
              "      <td id=\"T_bc1b5_row6_col1\" class=\"data row6 col1\" >0.00</td>\n",
              "      <td id=\"T_bc1b5_row6_col2\" class=\"data row6 col2\" >0.00</td>\n",
              "      <td id=\"T_bc1b5_row6_col3\" class=\"data row6 col3\" >0.00</td>\n",
              "      <td id=\"T_bc1b5_row6_col4\" class=\"data row6 col4\" >0.00</td>\n",
              "      <td id=\"T_bc1b5_row6_col5\" class=\"data row6 col5\" >0.00</td>\n",
              "      <td id=\"T_bc1b5_row6_col6\" class=\"data row6 col6\" >1.00</td>\n",
              "      <td id=\"T_bc1b5_row6_col7\" class=\"data row6 col7\" >0.00</td>\n",
              "      <td id=\"T_bc1b5_row6_col8\" class=\"data row6 col8\" >0.00</td>\n",
              "      <td id=\"T_bc1b5_row6_col9\" class=\"data row6 col9\" >0.00</td>\n",
              "    </tr>\n",
              "    <tr>\n",
              "      <th id=\"T_bc1b5_level0_row7\" class=\"row_heading level0 row7\" >vs</th>\n",
              "      <td id=\"T_bc1b5_row7_col0\" class=\"data row7 col0\" >0.00</td>\n",
              "      <td id=\"T_bc1b5_row7_col1\" class=\"data row7 col1\" >0.81</td>\n",
              "      <td id=\"T_bc1b5_row7_col2\" class=\"data row7 col2\" >0.00</td>\n",
              "      <td id=\"T_bc1b5_row7_col3\" class=\"data row7 col3\" >0.00</td>\n",
              "      <td id=\"T_bc1b5_row7_col4\" class=\"data row7 col4\" >0.00</td>\n",
              "      <td id=\"T_bc1b5_row7_col5\" class=\"data row7 col5\" >0.00</td>\n",
              "      <td id=\"T_bc1b5_row7_col6\" class=\"data row7 col6\" >0.00</td>\n",
              "      <td id=\"T_bc1b5_row7_col7\" class=\"data row7 col7\" >1.00</td>\n",
              "      <td id=\"T_bc1b5_row7_col8\" class=\"data row7 col8\" >0.00</td>\n",
              "      <td id=\"T_bc1b5_row7_col9\" class=\"data row7 col9\" >0.00</td>\n",
              "    </tr>\n",
              "    <tr>\n",
              "      <th id=\"T_bc1b5_level0_row8\" class=\"row_heading level0 row8\" >gear</th>\n",
              "      <td id=\"T_bc1b5_row8_col0\" class=\"data row8 col0\" >0.00</td>\n",
              "      <td id=\"T_bc1b5_row8_col1\" class=\"data row8 col1\" >0.00</td>\n",
              "      <td id=\"T_bc1b5_row8_col2\" class=\"data row8 col2\" >0.00</td>\n",
              "      <td id=\"T_bc1b5_row8_col3\" class=\"data row8 col3\" >0.00</td>\n",
              "      <td id=\"T_bc1b5_row8_col4\" class=\"data row8 col4\" >0.00</td>\n",
              "      <td id=\"T_bc1b5_row8_col5\" class=\"data row8 col5\" >0.00</td>\n",
              "      <td id=\"T_bc1b5_row8_col6\" class=\"data row8 col6\" >0.00</td>\n",
              "      <td id=\"T_bc1b5_row8_col7\" class=\"data row8 col7\" >0.00</td>\n",
              "      <td id=\"T_bc1b5_row8_col8\" class=\"data row8 col8\" >1.00</td>\n",
              "      <td id=\"T_bc1b5_row8_col9\" class=\"data row8 col9\" >0.00</td>\n",
              "    </tr>\n",
              "    <tr>\n",
              "      <th id=\"T_bc1b5_level0_row9\" class=\"row_heading level0 row9\" >carb</th>\n",
              "      <td id=\"T_bc1b5_row9_col0\" class=\"data row9 col0\" >0.00</td>\n",
              "      <td id=\"T_bc1b5_row9_col1\" class=\"data row9 col1\" >0.00</td>\n",
              "      <td id=\"T_bc1b5_row9_col2\" class=\"data row9 col2\" >0.00</td>\n",
              "      <td id=\"T_bc1b5_row9_col3\" class=\"data row9 col3\" >0.00</td>\n",
              "      <td id=\"T_bc1b5_row9_col4\" class=\"data row9 col4\" >0.00</td>\n",
              "      <td id=\"T_bc1b5_row9_col5\" class=\"data row9 col5\" >0.00</td>\n",
              "      <td id=\"T_bc1b5_row9_col6\" class=\"data row9 col6\" >0.00</td>\n",
              "      <td id=\"T_bc1b5_row9_col7\" class=\"data row9 col7\" >0.00</td>\n",
              "      <td id=\"T_bc1b5_row9_col8\" class=\"data row9 col8\" >0.00</td>\n",
              "      <td id=\"T_bc1b5_row9_col9\" class=\"data row9 col9\" >1.00</td>\n",
              "    </tr>\n",
              "  </tbody>\n",
              "</table>\n"
            ]
          },
          "metadata": {},
          "execution_count": 572
        }
      ],
      "source": [
        "correlation_matrix_highly_corr.style.background_gradient(cmap='gray').format(precision = 2)\n"
      ]
    },
    {
      "cell_type": "code",
      "execution_count": 572,
      "id": "ee9a02b3-f004-4952-9a2c-33fbc8af34fd",
      "metadata": {
        "id": "ee9a02b3-f004-4952-9a2c-33fbc8af34fd"
      },
      "outputs": [],
      "source": []
    },
    {
      "cell_type": "code",
      "execution_count": 572,
      "id": "fff80eef-cea9-444c-88cf-4442373d95a4",
      "metadata": {
        "id": "fff80eef-cea9-444c-88cf-4442373d95a4"
      },
      "outputs": [],
      "source": []
    },
    {
      "cell_type": "code",
      "execution_count": 572,
      "id": "944ae70d-8d10-4ce1-8136-b011b0a75054",
      "metadata": {
        "id": "944ae70d-8d10-4ce1-8136-b011b0a75054"
      },
      "outputs": [],
      "source": []
    },
    {
      "cell_type": "code",
      "execution_count": 573,
      "id": "bac5aba0-c45d-4277-88ef-72c420d85169",
      "metadata": {
        "id": "bac5aba0-c45d-4277-88ef-72c420d85169",
        "colab": {
          "base_uri": "https://localhost:8080/"
        },
        "outputId": "d22f840a-83fe-4a7f-d2e1-6ac162c91dab"
      },
      "outputs": [
        {
          "output_type": "execute_result",
          "data": {
            "text/plain": [
              "Index(['mpg', 'cyl', 'disp', 'drat', 'wt', 'gear'], dtype='object')"
            ]
          },
          "metadata": {},
          "execution_count": 573
        }
      ],
      "source": [
        "correlated_feature_names"
      ]
    },
    {
      "cell_type": "code",
      "execution_count": 574,
      "id": "e8fde982-453e-41de-bb6b-699278b65d88",
      "metadata": {
        "id": "e8fde982-453e-41de-bb6b-699278b65d88"
      },
      "outputs": [],
      "source": [
        "x = x[correlated_feature_names]"
      ]
    },
    {
      "cell_type": "code",
      "execution_count": 575,
      "id": "1df70223-0ebb-4f19-950f-05a207f19eb7",
      "metadata": {
        "id": "1df70223-0ebb-4f19-950f-05a207f19eb7",
        "colab": {
          "base_uri": "https://localhost:8080/"
        },
        "outputId": "22e6651b-4db2-4b3c-e695-81b467fd6d2a"
      },
      "outputs": [
        {
          "output_type": "stream",
          "name": "stderr",
          "text": [
            "<ipython-input-575-895b886a9b3c>:1: SettingWithCopyWarning: \n",
            "A value is trying to be set on a copy of a slice from a DataFrame\n",
            "\n",
            "See the caveats in the documentation: https://pandas.pydata.org/pandas-docs/stable/user_guide/indexing.html#returning-a-view-versus-a-copy\n",
            "  x.drop(columns = ['mpg', 'disp'], inplace = True)\n"
          ]
        }
      ],
      "source": [
        "x.drop(columns = ['mpg', 'disp'], inplace = True)"
      ]
    },
    {
      "cell_type": "code",
      "execution_count": 576,
      "id": "56ddcdab-ffd2-4457-932d-2d08044a9173",
      "metadata": {
        "id": "56ddcdab-ffd2-4457-932d-2d08044a9173"
      },
      "outputs": [],
      "source": [
        "number_of_features = len(x.columns)"
      ]
    },
    {
      "cell_type": "code",
      "execution_count": 577,
      "id": "d900dd1c-992d-4af0-a6f1-e1eb51ba0137",
      "metadata": {
        "id": "d900dd1c-992d-4af0-a6f1-e1eb51ba0137",
        "colab": {
          "base_uri": "https://localhost:8080/"
        },
        "outputId": "b55a29f9-821c-4b5e-dbc6-f1d830b7e846"
      },
      "outputs": [
        {
          "output_type": "execute_result",
          "data": {
            "text/plain": [
              "Index(['cyl', 'drat', 'wt', 'gear'], dtype='object')"
            ]
          },
          "metadata": {},
          "execution_count": 577
        }
      ],
      "source": [
        "x.columns"
      ]
    },
    {
      "cell_type": "code",
      "execution_count": 577,
      "id": "9a41469d-e1f4-4c8d-9a0c-7045bff6a9cd",
      "metadata": {
        "id": "9a41469d-e1f4-4c8d-9a0c-7045bff6a9cd"
      },
      "outputs": [],
      "source": []
    },
    {
      "cell_type": "code",
      "execution_count": 578,
      "id": "58a99509-e2c6-4f0a-a50a-81bab2f27260",
      "metadata": {
        "id": "58a99509-e2c6-4f0a-a50a-81bab2f27260"
      },
      "outputs": [],
      "source": [
        "scaler = preprocessing.StandardScaler()"
      ]
    },
    {
      "cell_type": "code",
      "execution_count": 579,
      "id": "4646c9a3-f0f5-42f0-93a6-5daab95059bb",
      "metadata": {
        "id": "4646c9a3-f0f5-42f0-93a6-5daab95059bb",
        "colab": {
          "base_uri": "https://localhost:8080/",
          "height": 74
        },
        "outputId": "5374827a-c9c0-42b0-88d9-e955a489a2f1"
      },
      "outputs": [
        {
          "output_type": "execute_result",
          "data": {
            "text/plain": [
              "StandardScaler()"
            ],
            "text/html": [
              "<style>#sk-container-id-54 {color: black;background-color: white;}#sk-container-id-54 pre{padding: 0;}#sk-container-id-54 div.sk-toggleable {background-color: white;}#sk-container-id-54 label.sk-toggleable__label {cursor: pointer;display: block;width: 100%;margin-bottom: 0;padding: 0.3em;box-sizing: border-box;text-align: center;}#sk-container-id-54 label.sk-toggleable__label-arrow:before {content: \"▸\";float: left;margin-right: 0.25em;color: #696969;}#sk-container-id-54 label.sk-toggleable__label-arrow:hover:before {color: black;}#sk-container-id-54 div.sk-estimator:hover label.sk-toggleable__label-arrow:before {color: black;}#sk-container-id-54 div.sk-toggleable__content {max-height: 0;max-width: 0;overflow: hidden;text-align: left;background-color: #f0f8ff;}#sk-container-id-54 div.sk-toggleable__content pre {margin: 0.2em;color: black;border-radius: 0.25em;background-color: #f0f8ff;}#sk-container-id-54 input.sk-toggleable__control:checked~div.sk-toggleable__content {max-height: 200px;max-width: 100%;overflow: auto;}#sk-container-id-54 input.sk-toggleable__control:checked~label.sk-toggleable__label-arrow:before {content: \"▾\";}#sk-container-id-54 div.sk-estimator input.sk-toggleable__control:checked~label.sk-toggleable__label {background-color: #d4ebff;}#sk-container-id-54 div.sk-label input.sk-toggleable__control:checked~label.sk-toggleable__label {background-color: #d4ebff;}#sk-container-id-54 input.sk-hidden--visually {border: 0;clip: rect(1px 1px 1px 1px);clip: rect(1px, 1px, 1px, 1px);height: 1px;margin: -1px;overflow: hidden;padding: 0;position: absolute;width: 1px;}#sk-container-id-54 div.sk-estimator {font-family: monospace;background-color: #f0f8ff;border: 1px dotted black;border-radius: 0.25em;box-sizing: border-box;margin-bottom: 0.5em;}#sk-container-id-54 div.sk-estimator:hover {background-color: #d4ebff;}#sk-container-id-54 div.sk-parallel-item::after {content: \"\";width: 100%;border-bottom: 1px solid gray;flex-grow: 1;}#sk-container-id-54 div.sk-label:hover label.sk-toggleable__label {background-color: #d4ebff;}#sk-container-id-54 div.sk-serial::before {content: \"\";position: absolute;border-left: 1px solid gray;box-sizing: border-box;top: 0;bottom: 0;left: 50%;z-index: 0;}#sk-container-id-54 div.sk-serial {display: flex;flex-direction: column;align-items: center;background-color: white;padding-right: 0.2em;padding-left: 0.2em;position: relative;}#sk-container-id-54 div.sk-item {position: relative;z-index: 1;}#sk-container-id-54 div.sk-parallel {display: flex;align-items: stretch;justify-content: center;background-color: white;position: relative;}#sk-container-id-54 div.sk-item::before, #sk-container-id-54 div.sk-parallel-item::before {content: \"\";position: absolute;border-left: 1px solid gray;box-sizing: border-box;top: 0;bottom: 0;left: 50%;z-index: -1;}#sk-container-id-54 div.sk-parallel-item {display: flex;flex-direction: column;z-index: 1;position: relative;background-color: white;}#sk-container-id-54 div.sk-parallel-item:first-child::after {align-self: flex-end;width: 50%;}#sk-container-id-54 div.sk-parallel-item:last-child::after {align-self: flex-start;width: 50%;}#sk-container-id-54 div.sk-parallel-item:only-child::after {width: 0;}#sk-container-id-54 div.sk-dashed-wrapped {border: 1px dashed gray;margin: 0 0.4em 0.5em 0.4em;box-sizing: border-box;padding-bottom: 0.4em;background-color: white;}#sk-container-id-54 div.sk-label label {font-family: monospace;font-weight: bold;display: inline-block;line-height: 1.2em;}#sk-container-id-54 div.sk-label-container {text-align: center;}#sk-container-id-54 div.sk-container {/* jupyter's `normalize.less` sets `[hidden] { display: none; }` but bootstrap.min.css set `[hidden] { display: none !important; }` so we also need the `!important` here to be able to override the default hidden behavior on the sphinx rendered scikit-learn.org. See: https://github.com/scikit-learn/scikit-learn/issues/21755 */display: inline-block !important;position: relative;}#sk-container-id-54 div.sk-text-repr-fallback {display: none;}</style><div id=\"sk-container-id-54\" class=\"sk-top-container\"><div class=\"sk-text-repr-fallback\"><pre>StandardScaler()</pre><b>In a Jupyter environment, please rerun this cell to show the HTML representation or trust the notebook. <br />On GitHub, the HTML representation is unable to render, please try loading this page with nbviewer.org.</b></div><div class=\"sk-container\" hidden><div class=\"sk-item\"><div class=\"sk-estimator sk-toggleable\"><input class=\"sk-toggleable__control sk-hidden--visually\" id=\"sk-estimator-id-54\" type=\"checkbox\" checked><label for=\"sk-estimator-id-54\" class=\"sk-toggleable__label sk-toggleable__label-arrow\">StandardScaler</label><div class=\"sk-toggleable__content\"><pre>StandardScaler()</pre></div></div></div></div></div>"
            ]
          },
          "metadata": {},
          "execution_count": 579
        }
      ],
      "source": [
        "scaler.fit(x)\n"
      ]
    },
    {
      "cell_type": "code",
      "execution_count": 580,
      "id": "31ab3c14-8988-4580-85f8-786daf7d8257",
      "metadata": {
        "id": "31ab3c14-8988-4580-85f8-786daf7d8257"
      },
      "outputs": [],
      "source": [
        "x_scaled = scaler.transform(x)"
      ]
    },
    {
      "cell_type": "code",
      "execution_count": 581,
      "id": "ace2478f-be20-44c7-9388-524a19475a97",
      "metadata": {
        "id": "ace2478f-be20-44c7-9388-524a19475a97",
        "colab": {
          "base_uri": "https://localhost:8080/",
          "height": 460
        },
        "outputId": "38bfb7f4-d8b4-475e-b54f-468fd1b13132"
      },
      "outputs": [
        {
          "output_type": "display_data",
          "data": {
            "text/plain": [
              "<Figure size 600x400 with 1 Axes>"
            ],
            "image/png": "[encoded data removed]"
          },
          "metadata": {}
        }
      ],
      "source": [
        "fig = plt.figure(figsize = (6,4))\n",
        "ax = fig.add_axes([0, 0, 1, 1])\n",
        "bp = ax.boxplot(x_scaled)\n",
        "plt.xticks(np.arange(1,number_of_features+1),x.columns)\n",
        "plt.show()"
      ]
    },
    {
      "cell_type": "code",
      "execution_count": 582,
      "id": "7835a08a-2fc4-499e-b8f4-91de426709c3",
      "metadata": {
        "id": "7835a08a-2fc4-499e-b8f4-91de426709c3"
      },
      "outputs": [],
      "source": [
        "feature_names = x.columns"
      ]
    },
    {
      "cell_type": "code",
      "execution_count": 583,
      "id": "cd37b6ba-bc8c-43fe-ac99-ca31d6cb6dd7",
      "metadata": {
        "id": "cd37b6ba-bc8c-43fe-ac99-ca31d6cb6dd7",
        "colab": {
          "base_uri": "https://localhost:8080/",
          "height": 206
        },
        "outputId": "5d419dde-db6a-4afc-f841-af52f7bcc283"
      },
      "outputs": [
        {
          "output_type": "execute_result",
          "data": {
            "text/plain": [
              "   cyl  drat     wt  gear\n",
              "0    6  3.90  2.620     4\n",
              "1    6  3.90  2.875     4\n",
              "2    4  3.85  2.320     4\n",
              "3    6  3.08  3.215     3\n",
              "4    8  3.15  3.440     3"
            ],
            "text/html": [
              "\n",
              "  <div id=\"df-63d87cb3-a761-47cf-8f2d-169c46758cb8\" class=\"colab-df-container\">\n",
              "    <div>\n",
              "<style scoped>\n",
              "    .dataframe tbody tr th:only-of-type {\n",
              "        vertical-align: middle;\n",
              "    }\n",
              "\n",
              "    .dataframe tbody tr th {\n",
              "        vertical-align: top;\n",
              "    }\n",
              "\n",
              "    .dataframe thead th {\n",
              "        text-align: right;\n",
              "    }\n",
              "</style>\n",
              "<table border=\"1\" class=\"dataframe\">\n",
              "  <thead>\n",
              "    <tr style=\"text-align: right;\">\n",
              "      <th></th>\n",
              "      <th>cyl</th>\n",
              "      <th>drat</th>\n",
              "      <th>wt</th>\n",
              "      <th>gear</th>\n",
              "    </tr>\n",
              "  </thead>\n",
              "  <tbody>\n",
              "    <tr>\n",
              "      <th>0</th>\n",
              "      <td>6</td>\n",
              "      <td>3.90</td>\n",
              "      <td>2.620</td>\n",
              "      <td>4</td>\n",
              "    </tr>\n",
              "    <tr>\n",
              "      <th>1</th>\n",
              "      <td>6</td>\n",
              "      <td>3.90</td>\n",
              "      <td>2.875</td>\n",
              "      <td>4</td>\n",
              "    </tr>\n",
              "    <tr>\n",
              "      <th>2</th>\n",
              "      <td>4</td>\n",
              "      <td>3.85</td>\n",
              "      <td>2.320</td>\n",
              "      <td>4</td>\n",
              "    </tr>\n",
              "    <tr>\n",
              "      <th>3</th>\n",
              "      <td>6</td>\n",
              "      <td>3.08</td>\n",
              "      <td>3.215</td>\n",
              "      <td>3</td>\n",
              "    </tr>\n",
              "    <tr>\n",
              "      <th>4</th>\n",
              "      <td>8</td>\n",
              "      <td>3.15</td>\n",
              "      <td>3.440</td>\n",
              "      <td>3</td>\n",
              "    </tr>\n",
              "  </tbody>\n",
              "</table>\n",
              "</div>\n",
              "    <div class=\"colab-df-buttons\">\n",
              "\n",
              "  <div class=\"colab-df-container\">\n",
              "    <button class=\"colab-df-convert\" onclick=\"convertToInteractive('df-63d87cb3-a761-47cf-8f2d-169c46758cb8')\"\n",
              "            title=\"Convert this dataframe to an interactive table.\"\n",
              "            style=\"display:none;\">\n",
              "\n",
              "  <svg xmlns=\"http://www.w3.org/2000/svg\" height=\"24px\" viewBox=\"0 -960 960 960\">\n",
              "    <path d=\"M120-120v-720h720v720H120Zm60-500h600v-160H180v160Zm220 220h160v-160H400v160Zm0 220h160v-160H400v160ZM180-400h160v-160H180v160Zm440 0h160v-160H620v160ZM180-180h160v-160H180v160Zm440 0h160v-160H620v160Z\"/>\n",
              "  </svg>\n",
              "    </button>\n",
              "\n",
              "  <style>\n",
              "    .colab-df-container {\n",
              "      display:flex;\n",
              "      gap: 12px;\n",
              "    }\n",
              "\n",
              "    .colab-df-convert {\n",
              "      background-color: #E8F0FE;\n",
              "      border: none;\n",
              "      border-radius: 50%;\n",
              "      cursor: pointer;\n",
              "      display: none;\n",
              "      fill: #1967D2;\n",
              "      height: 32px;\n",
              "      padding: 0 0 0 0;\n",
              "      width: 32px;\n",
              "    }\n",
              "\n",
              "    .colab-df-convert:hover {\n",
              "      background-color: #E2EBFA;\n",
              "      box-shadow: 0px 1px 2px rgba(60, 64, 67, 0.3), 0px 1px 3px 1px rgba(60, 64, 67, 0.15);\n",
              "      fill: #174EA6;\n",
              "    }\n",
              "\n",
              "    .colab-df-buttons div {\n",
              "      margin-bottom: 4px;\n",
              "    }\n",
              "\n",
              "    [theme=dark] .colab-df-convert {\n",
              "      background-color: #3B4455;\n",
              "      fill: #D2E3FC;\n",
              "    }\n",
              "\n",
              "    [theme=dark] .colab-df-convert:hover {\n",
              "      background-color: #434B5C;\n",
              "      box-shadow: 0px 1px 3px 1px rgba(0, 0, 0, 0.15);\n",
              "      filter: drop-shadow(0px 1px 2px rgba(0, 0, 0, 0.3));\n",
              "      fill: #FFFFFF;\n",
              "    }\n",
              "  </style>\n",
              "\n",
              "    <script>\n",
              "      const buttonEl =\n",
              "        document.querySelector('#df-63d87cb3-a761-47cf-8f2d-169c46758cb8 button.colab-df-convert');\n",
              "      buttonEl.style.display =\n",
              "        google.colab.kernel.accessAllowed ? 'block' : 'none';\n",
              "\n",
              "      async function convertToInteractive(key) {\n",
              "        const element = document.querySelector('#df-63d87cb3-a761-47cf-8f2d-169c46758cb8');\n",
              "        const dataTable =\n",
              "          await google.colab.kernel.invokeFunction('convertToInteractive',\n",
              "                                                    [key], {});\n",
              "        if (!dataTable) return;\n",
              "\n",
              "        const docLinkHtml = 'Like what you see? Visit the ' +\n",
              "          '<a target=\"_blank\" href=https://colab.research.google.com/notebooks/data_table.ipynb>data table notebook</a>'\n",
              "          + ' to learn more about interactive tables.';\n",
              "        element.innerHTML = '';\n",
              "        dataTable['output_type'] = 'display_data';\n",
              "        await google.colab.output.renderOutput(dataTable, element);\n",
              "        const docLink = document.createElement('div');\n",
              "        docLink.innerHTML = docLinkHtml;\n",
              "        element.appendChild(docLink);\n",
              "      }\n",
              "    </script>\n",
              "  </div>\n",
              "\n",
              "\n",
              "<div id=\"df-21753baf-3f40-4582-86ee-98ba0e1126d2\">\n",
              "  <button class=\"colab-df-quickchart\" onclick=\"quickchart('df-21753baf-3f40-4582-86ee-98ba0e1126d2')\"\n",
              "            title=\"Suggest charts.\"\n",
              "            style=\"display:none;\">\n",
              "\n",
              "<svg xmlns=\"http://www.w3.org/2000/svg\" height=\"24px\"viewBox=\"0 0 24 24\"\n",
              "     width=\"24px\">\n",
              "    <g>\n",
              "        <path d=\"M19 3H5c-1.1 0-2 .9-2 2v14c0 1.1.9 2 2 2h14c1.1 0 2-.9 2-2V5c0-1.1-.9-2-2-2zM9 17H7v-7h2v7zm4 0h-2V7h2v10zm4 0h-2v-4h2v4z\"/>\n",
              "    </g>\n",
              "</svg>\n",
              "  </button>\n",
              "\n",
              "<style>\n",
              "  .colab-df-quickchart {\n",
              "    background-color: #E8F0FE;\n",
              "    border: none;\n",
              "    border-radius: 50%;\n",
              "    cursor: pointer;\n",
              "    display: none;\n",
              "    fill: #1967D2;\n",
              "    height: 32px;\n",
              "    padding: 0 0 0 0;\n",
              "    width: 32px;\n",
              "  }\n",
              "\n",
              "  .colab-df-quickchart:hover {\n",
              "    background-color: #E2EBFA;\n",
              "    box-shadow: 0px 1px 2px rgba(60, 64, 67, 0.3), 0px 1px 3px 1px rgba(60, 64, 67, 0.15);\n",
              "    fill: #174EA6;\n",
              "  }\n",
              "\n",
              "  [theme=dark] .colab-df-quickchart {\n",
              "    background-color: #3B4455;\n",
              "    fill: #D2E3FC;\n",
              "  }\n",
              "\n",
              "  [theme=dark] .colab-df-quickchart:hover {\n",
              "    background-color: #434B5C;\n",
              "    box-shadow: 0px 1px 3px 1px rgba(0, 0, 0, 0.15);\n",
              "    filter: drop-shadow(0px 1px 2px rgba(0, 0, 0, 0.3));\n",
              "    fill: #FFFFFF;\n",
              "  }\n",
              "</style>\n",
              "\n",
              "  <script>\n",
              "    async function quickchart(key) {\n",
              "      const charts = await google.colab.kernel.invokeFunction(\n",
              "          'suggestCharts', [key], {});\n",
              "    }\n",
              "    (() => {\n",
              "      let quickchartButtonEl =\n",
              "        document.querySelector('#df-21753baf-3f40-4582-86ee-98ba0e1126d2 button');\n",
              "      quickchartButtonEl.style.display =\n",
              "        google.colab.kernel.accessAllowed ? 'block' : 'none';\n",
              "    })();\n",
              "  </script>\n",
              "</div>\n",
              "    </div>\n",
              "  </div>\n"
            ]
          },
          "metadata": {},
          "execution_count": 583
        }
      ],
      "source": [
        "\n",
        "x.head()\n"
      ]
    },
    {
      "cell_type": "code",
      "execution_count": 583,
      "id": "7538c509-20a9-4a72-a253-0eb111225832",
      "metadata": {
        "id": "7538c509-20a9-4a72-a253-0eb111225832"
      },
      "outputs": [],
      "source": []
    },
    {
      "cell_type": "markdown",
      "source": [
        "# Model selection and evaluation\n"
      ],
      "metadata": {
        "id": "ysrGF5xgUHXT"
      },
      "id": "ysrGF5xgUHXT"
    },
    {
      "cell_type": "code",
      "execution_count": 584,
      "id": "df7a7e26-55a7-4edc-b293-a87e008821bd",
      "metadata": {
        "id": "df7a7e26-55a7-4edc-b293-a87e008821bd"
      },
      "outputs": [],
      "source": [
        "results={}"
      ]
    },
    {
      "cell_type": "code",
      "execution_count": 585,
      "id": "3af75bb7-6b36-4b3c-9063-431935019d5c",
      "metadata": {
        "id": "3af75bb7-6b36-4b3c-9063-431935019d5c"
      },
      "outputs": [],
      "source": [
        "def evaluate_model(base_model, k_folds = 3, params={}):\n",
        "    cv = model_selection.KFold(n_splits=k_folds, shuffle=True)\n",
        "    scores=[]\n",
        "    best={}\n",
        "    best['best_score']=-10000\n",
        "    for train_ind, test_ind in cv.split(x,y):\n",
        "        x_train=x.iloc[train_ind,:]\n",
        "        y_train = y[train_ind]\n",
        "        x_test = x.iloc[test_ind, :]\n",
        "        y_test = y[test_ind]\n",
        "        scaler = preprocessing.StandardScaler()\n",
        "        scaler.fit(x_train)\n",
        "        x_train  = scaler.transform(x_train)\n",
        "        x_test = scaler.transform(x_test)\n",
        "        if len(params) > 0:\n",
        "            model = model_selection.GridSearchCV(base_model,params, cv=5)\n",
        "        else:\n",
        "            model = base_model\n",
        "        model.fit(x_train, y_train)\n",
        "        y_pred = model.predict(x_test)\n",
        "\n",
        "        score = metrics.f1_score(y_test,y_pred)\n",
        "        print(score)\n",
        "        print('Classification report ')\n",
        "        print(metrics.classification_report(y_test, y_pred))\n",
        "        print('Confusion matrix ')\n",
        "        print(metrics.confusion_matrix(y_test,y_pred))\n",
        "        if(score > best['best_score']):\n",
        "            best['best_score'] = score\n",
        "            if len(params) >0:\n",
        "                best['params'] = model.best_params_\n",
        "        scores.append(score)\n",
        "    best['scores']=scores\n",
        "    best['average_score'] = np.average(scores)\n",
        "    return best"
      ]
    },
    {
      "cell_type": "code",
      "execution_count": 585,
      "id": "560013b9-100a-4b3b-a71c-f71436d0fa05",
      "metadata": {
        "id": "560013b9-100a-4b3b-a71c-f71436d0fa05"
      },
      "outputs": [],
      "source": []
    },
    {
      "cell_type": "markdown",
      "source": [
        "### SVM model"
      ],
      "metadata": {
        "id": "b67W6pytUVIe"
      },
      "id": "b67W6pytUVIe"
    },
    {
      "cell_type": "code",
      "execution_count": 586,
      "id": "cf8ef393-36f0-4791-b387-4934e7c7eeb0",
      "metadata": {
        "id": "cf8ef393-36f0-4791-b387-4934e7c7eeb0",
        "colab": {
          "base_uri": "https://localhost:8080/"
        },
        "outputId": "2e058323-0ec4-4152-8bce-78fdca6686f4"
      },
      "outputs": [
        {
          "output_type": "stream",
          "name": "stdout",
          "text": [
            "0.9090909090909091\n",
            "Classification report \n",
            "              precision    recall  f1-score   support\n",
            "\n",
            "           0       0.83      1.00      0.91         5\n",
            "           1       1.00      0.83      0.91         6\n",
            "\n",
            "    accuracy                           0.91        11\n",
            "   macro avg       0.92      0.92      0.91        11\n",
            "weighted avg       0.92      0.91      0.91        11\n",
            "\n",
            "Confusion matrix \n",
            "[[5 0]\n",
            " [1 5]]\n",
            "0.9090909090909091\n",
            "Classification report \n",
            "              precision    recall  f1-score   support\n",
            "\n",
            "           0       0.83      1.00      0.91         5\n",
            "           1       1.00      0.83      0.91         6\n",
            "\n",
            "    accuracy                           0.91        11\n",
            "   macro avg       0.92      0.92      0.91        11\n",
            "weighted avg       0.92      0.91      0.91        11\n",
            "\n",
            "Confusion matrix \n",
            "[[5 0]\n",
            " [1 5]]\n",
            "0.5\n",
            "Classification report \n",
            "              precision    recall  f1-score   support\n",
            "\n",
            "           0       1.00      0.78      0.88         9\n",
            "           1       0.33      1.00      0.50         1\n",
            "\n",
            "    accuracy                           0.80        10\n",
            "   macro avg       0.67      0.89      0.69        10\n",
            "weighted avg       0.93      0.80      0.84        10\n",
            "\n",
            "Confusion matrix \n",
            "[[7 2]\n",
            " [0 1]]\n"
          ]
        }
      ],
      "source": [
        "params = {'gamma':[10**i for i in range(-3,1)],'C':[10**i for i in range(1,4)],'kernel' :['linear','rbf']}\n",
        "model = svm.SVC()\n",
        "\n",
        "results['SVM'] = evaluate_model(model,params= params)"
      ]
    },
    {
      "cell_type": "code",
      "execution_count": 587,
      "id": "0b537ac7-c9dc-4a8f-a297-4d70e101627d",
      "metadata": {
        "id": "0b537ac7-c9dc-4a8f-a297-4d70e101627d",
        "colab": {
          "base_uri": "https://localhost:8080/"
        },
        "outputId": "6e035736-8228-4b0b-b19d-c7cdb71f5826"
      },
      "outputs": [
        {
          "output_type": "execute_result",
          "data": {
            "text/plain": [
              "{'best_score': 0.9090909090909091,\n",
              " 'params': {'C': 10, 'gamma': 0.001, 'kernel': 'linear'},\n",
              " 'scores': [0.9090909090909091, 0.9090909090909091, 0.5],\n",
              " 'average_score': 0.7727272727272728}"
            ]
          },
          "metadata": {},
          "execution_count": 587
        }
      ],
      "source": [
        "results['SVM']"
      ]
    },
    {
      "cell_type": "markdown",
      "source": [
        "### Logistic regression"
      ],
      "metadata": {
        "id": "TC6G-SDtUeUm"
      },
      "id": "TC6G-SDtUeUm"
    },
    {
      "cell_type": "code",
      "execution_count": 588,
      "id": "05751d3a-00b2-4e8e-95c1-6c96e0938807",
      "metadata": {
        "id": "05751d3a-00b2-4e8e-95c1-6c96e0938807",
        "colab": {
          "base_uri": "https://localhost:8080/"
        },
        "outputId": "2ca7e02b-2222-47dd-f939-d35629d92960"
      },
      "outputs": [
        {
          "output_type": "stream",
          "name": "stdout",
          "text": [
            "1.0\n",
            "Classification report \n",
            "              precision    recall  f1-score   support\n",
            "\n",
            "           0       1.00      1.00      1.00         7\n",
            "           1       1.00      1.00      1.00         4\n",
            "\n",
            "    accuracy                           1.00        11\n",
            "   macro avg       1.00      1.00      1.00        11\n",
            "weighted avg       1.00      1.00      1.00        11\n",
            "\n",
            "Confusion matrix \n",
            "[[7 0]\n",
            " [0 4]]\n",
            "0.7499999999999999\n",
            "Classification report \n",
            "              precision    recall  f1-score   support\n",
            "\n",
            "           0       1.00      0.75      0.86         8\n",
            "           1       0.60      1.00      0.75         3\n",
            "\n",
            "    accuracy                           0.82        11\n",
            "   macro avg       0.80      0.88      0.80        11\n",
            "weighted avg       0.89      0.82      0.83        11\n",
            "\n",
            "Confusion matrix \n",
            "[[6 2]\n",
            " [0 3]]\n",
            "1.0\n",
            "Classification report \n",
            "              precision    recall  f1-score   support\n",
            "\n",
            "           0       1.00      1.00      1.00         4\n",
            "           1       1.00      1.00      1.00         6\n",
            "\n",
            "    accuracy                           1.00        10\n",
            "   macro avg       1.00      1.00      1.00        10\n",
            "weighted avg       1.00      1.00      1.00        10\n",
            "\n",
            "Confusion matrix \n",
            "[[4 0]\n",
            " [0 6]]\n"
          ]
        }
      ],
      "source": [
        "model = linear_model.LogisticRegression(penalty='l2', C=1.0)\n",
        "results['Logistic regression'] = evaluate_model(model)"
      ]
    },
    {
      "cell_type": "code",
      "execution_count": 589,
      "id": "4e65548f-093e-4db0-acba-611640b33476",
      "metadata": {
        "id": "4e65548f-093e-4db0-acba-611640b33476",
        "colab": {
          "base_uri": "https://localhost:8080/"
        },
        "outputId": "766ce074-391f-4008-bfde-4f6181954ee9"
      },
      "outputs": [
        {
          "output_type": "execute_result",
          "data": {
            "text/plain": [
              "{'best_score': 1.0,\n",
              " 'scores': [1.0, 0.7499999999999999, 1.0],\n",
              " 'average_score': 0.9166666666666666}"
            ]
          },
          "metadata": {},
          "execution_count": 589
        }
      ],
      "source": [
        "results['Logistic regression']"
      ]
    },
    {
      "cell_type": "markdown",
      "source": [
        "### Linear SVM"
      ],
      "metadata": {
        "id": "1dljq40TU1kP"
      },
      "id": "1dljq40TU1kP"
    },
    {
      "cell_type": "code",
      "source": [
        "model = svm.LinearSVC()\n",
        "results['Linear SVM'] = evaluate_model(model)"
      ],
      "metadata": {
        "id": "T4ql76QEU2AI",
        "colab": {
          "base_uri": "https://localhost:8080/"
        },
        "outputId": "7edaf631-5321-4a3d-9392-1e1e4482687f"
      },
      "id": "T4ql76QEU2AI",
      "execution_count": 590,
      "outputs": [
        {
          "output_type": "stream",
          "name": "stdout",
          "text": [
            "1.0\n",
            "Classification report \n",
            "              precision    recall  f1-score   support\n",
            "\n",
            "           0       1.00      1.00      1.00         5\n",
            "           1       1.00      1.00      1.00         6\n",
            "\n",
            "    accuracy                           1.00        11\n",
            "   macro avg       1.00      1.00      1.00        11\n",
            "weighted avg       1.00      1.00      1.00        11\n",
            "\n",
            "Confusion matrix \n",
            "[[5 0]\n",
            " [0 6]]\n",
            "0.7692307692307693\n",
            "Classification report \n",
            "              precision    recall  f1-score   support\n",
            "\n",
            "           0       1.00      0.50      0.67         6\n",
            "           1       0.62      1.00      0.77         5\n",
            "\n",
            "    accuracy                           0.73        11\n",
            "   macro avg       0.81      0.75      0.72        11\n",
            "weighted avg       0.83      0.73      0.71        11\n",
            "\n",
            "Confusion matrix \n",
            "[[3 3]\n",
            " [0 5]]\n",
            "0.6666666666666666\n",
            "Classification report \n",
            "              precision    recall  f1-score   support\n",
            "\n",
            "           0       0.89      1.00      0.94         8\n",
            "           1       1.00      0.50      0.67         2\n",
            "\n",
            "    accuracy                           0.90        10\n",
            "   macro avg       0.94      0.75      0.80        10\n",
            "weighted avg       0.91      0.90      0.89        10\n",
            "\n",
            "Confusion matrix \n",
            "[[8 0]\n",
            " [1 1]]\n"
          ]
        }
      ]
    },
    {
      "cell_type": "code",
      "source": [
        "results['Linear SVM']"
      ],
      "metadata": {
        "id": "M2D5lk7WU2Ky",
        "colab": {
          "base_uri": "https://localhost:8080/"
        },
        "outputId": "87eaebdd-0eb2-496a-989d-97c351432e8c"
      },
      "id": "M2D5lk7WU2Ky",
      "execution_count": 591,
      "outputs": [
        {
          "output_type": "execute_result",
          "data": {
            "text/plain": [
              "{'best_score': 1.0,\n",
              " 'scores': [1.0, 0.7692307692307693, 0.6666666666666666],\n",
              " 'average_score': 0.8119658119658119}"
            ]
          },
          "metadata": {},
          "execution_count": 591
        }
      ]
    },
    {
      "cell_type": "markdown",
      "source": [],
      "metadata": {
        "id": "XYYofo3PVEHz"
      },
      "id": "XYYofo3PVEHz"
    },
    {
      "cell_type": "code",
      "source": [],
      "metadata": {
        "id": "xOjQe5dpVPhX"
      },
      "id": "xOjQe5dpVPhX",
      "execution_count": 591,
      "outputs": []
    },
    {
      "cell_type": "markdown",
      "metadata": {
        "id": "9b92599b-e6c7-404a-b2e0-5c4071226e68"
      },
      "source": [
        "### Bayesian Ridge"
      ],
      "id": "9b92599b-e6c7-404a-b2e0-5c4071226e68"
    },
    {
      "cell_type": "code",
      "execution_count": 592,
      "metadata": {
        "id": "56cb84a0-1c1b-4b3e-8e48-00ff3a74cc16",
        "colab": {
          "base_uri": "https://localhost:8080/"
        },
        "outputId": "aa83fec6-42a5-4e0a-a7b0-c65880645755"
      },
      "outputs": [
        {
          "output_type": "stream",
          "name": "stdout",
          "text": [
            "0.8571428571428571\n",
            "Classification report \n",
            "              precision    recall  f1-score   support\n",
            "\n",
            "           0       1.00      0.88      0.93         8\n",
            "           1       0.75      1.00      0.86         3\n",
            "\n",
            "    accuracy                           0.91        11\n",
            "   macro avg       0.88      0.94      0.90        11\n",
            "weighted avg       0.93      0.91      0.91        11\n",
            "\n",
            "Confusion matrix \n",
            "[[7 1]\n",
            " [0 3]]\n",
            "0.9411764705882353\n",
            "Classification report \n",
            "              precision    recall  f1-score   support\n",
            "\n",
            "           0       1.00      0.67      0.80         3\n",
            "           1       0.89      1.00      0.94         8\n",
            "\n",
            "    accuracy                           0.91        11\n",
            "   macro avg       0.94      0.83      0.87        11\n",
            "weighted avg       0.92      0.91      0.90        11\n",
            "\n",
            "Confusion matrix \n",
            "[[2 1]\n",
            " [0 8]]\n",
            "0.5714285714285715\n",
            "Classification report \n",
            "              precision    recall  f1-score   support\n",
            "\n",
            "           0       1.00      0.62      0.77         8\n",
            "           1       0.40      1.00      0.57         2\n",
            "\n",
            "    accuracy                           0.70        10\n",
            "   macro avg       0.70      0.81      0.67        10\n",
            "weighted avg       0.88      0.70      0.73        10\n",
            "\n",
            "Confusion matrix \n",
            "[[5 3]\n",
            " [0 2]]\n"
          ]
        }
      ],
      "source": [
        "model = naive_bayes.GaussianNB()\n",
        "results['Gaussian NB'] = evaluate_model(model)"
      ],
      "id": "56cb84a0-1c1b-4b3e-8e48-00ff3a74cc16"
    },
    {
      "cell_type": "code",
      "execution_count": 593,
      "metadata": {
        "id": "236ccb16-63a6-4c0a-914c-f54711a328c6",
        "colab": {
          "base_uri": "https://localhost:8080/"
        },
        "outputId": "03540c2f-8aea-4642-feec-8943de431ecb"
      },
      "outputs": [
        {
          "output_type": "execute_result",
          "data": {
            "text/plain": [
              "{'best_score': 0.9411764705882353,\n",
              " 'scores': [0.8571428571428571, 0.9411764705882353, 0.5714285714285715],\n",
              " 'average_score': 0.7899159663865546}"
            ]
          },
          "metadata": {},
          "execution_count": 593
        }
      ],
      "source": [
        "results['Gaussian NB']"
      ],
      "id": "236ccb16-63a6-4c0a-914c-f54711a328c6"
    },
    {
      "cell_type": "markdown",
      "metadata": {
        "id": "453ef2dd-335d-41d3-a55e-2637f96cd6d0"
      },
      "source": [
        "### Random Forest"
      ],
      "id": "453ef2dd-335d-41d3-a55e-2637f96cd6d0"
    },
    {
      "cell_type": "code",
      "execution_count": 594,
      "metadata": {
        "id": "761e88e2-f6ab-4e79-b477-69816165633c",
        "colab": {
          "base_uri": "https://localhost:8080/"
        },
        "outputId": "1a460af5-a6be-4ed7-8cb1-097ebf5084ba"
      },
      "outputs": [
        {
          "output_type": "stream",
          "name": "stdout",
          "text": [
            "0.8571428571428571\n",
            "Classification report \n",
            "              precision    recall  f1-score   support\n",
            "\n",
            "           0       1.00      0.88      0.93         8\n",
            "           1       0.75      1.00      0.86         3\n",
            "\n",
            "    accuracy                           0.91        11\n",
            "   macro avg       0.88      0.94      0.90        11\n",
            "weighted avg       0.93      0.91      0.91        11\n",
            "\n",
            "Confusion matrix \n",
            "[[7 1]\n",
            " [0 3]]\n",
            "0.6666666666666666\n",
            "Classification report \n",
            "              precision    recall  f1-score   support\n",
            "\n",
            "           0       0.88      0.88      0.88         8\n",
            "           1       0.67      0.67      0.67         3\n",
            "\n",
            "    accuracy                           0.82        11\n",
            "   macro avg       0.77      0.77      0.77        11\n",
            "weighted avg       0.82      0.82      0.82        11\n",
            "\n",
            "Confusion matrix \n",
            "[[7 1]\n",
            " [1 2]]\n",
            "0.923076923076923\n",
            "Classification report \n",
            "              precision    recall  f1-score   support\n",
            "\n",
            "           0       0.75      1.00      0.86         3\n",
            "           1       1.00      0.86      0.92         7\n",
            "\n",
            "    accuracy                           0.90        10\n",
            "   macro avg       0.88      0.93      0.89        10\n",
            "weighted avg       0.93      0.90      0.90        10\n",
            "\n",
            "Confusion matrix \n",
            "[[3 0]\n",
            " [1 6]]\n"
          ]
        }
      ],
      "source": [
        "params = {'n_estimators' : [10*i for i in range(1,5)],  'max_depth' : [2,3,4]}\n",
        "model = ensemble.RandomForestClassifier()\n",
        "\n",
        "results['Random Forest'] = evaluate_model(model,params =params)"
      ],
      "id": "761e88e2-f6ab-4e79-b477-69816165633c"
    },
    {
      "cell_type": "code",
      "source": [
        "results['Random Forest']"
      ],
      "metadata": {
        "id": "PM54K0VbG62A",
        "colab": {
          "base_uri": "https://localhost:8080/"
        },
        "outputId": "ac7fc981-ea52-4dfd-cd67-c86bad0ce445"
      },
      "execution_count": 595,
      "outputs": [
        {
          "output_type": "execute_result",
          "data": {
            "text/plain": [
              "{'best_score': 0.923076923076923,\n",
              " 'params': {'max_depth': 3, 'n_estimators': 10},\n",
              " 'scores': [0.8571428571428571, 0.6666666666666666, 0.923076923076923],\n",
              " 'average_score': 0.8156288156288155}"
            ]
          },
          "metadata": {},
          "execution_count": 595
        }
      ],
      "id": "PM54K0VbG62A"
    },
    {
      "cell_type": "markdown",
      "metadata": {
        "id": "37021cdd-ef92-465d-bfb2-243b5289f589"
      },
      "source": [
        "### XGBoost"
      ],
      "id": "37021cdd-ef92-465d-bfb2-243b5289f589"
    },
    {
      "cell_type": "code",
      "execution_count": 596,
      "metadata": {
        "id": "3e1ac930-bd14-41f3-828a-dcb57c35dca2",
        "colab": {
          "base_uri": "https://localhost:8080/"
        },
        "outputId": "adeadf11-93f7-4b4c-ef02-00fe0f209d1a"
      },
      "outputs": [
        {
          "output_type": "stream",
          "name": "stdout",
          "text": [
            "0.5714285714285715\n",
            "Classification report \n",
            "              precision    recall  f1-score   support\n",
            "\n",
            "           0       1.00      0.67      0.80         9\n",
            "           1       0.40      1.00      0.57         2\n",
            "\n",
            "    accuracy                           0.73        11\n",
            "   macro avg       0.70      0.83      0.69        11\n",
            "weighted avg       0.89      0.73      0.76        11\n",
            "\n",
            "Confusion matrix \n",
            "[[6 3]\n",
            " [0 2]]\n",
            "0.8333333333333333\n",
            "Classification report \n",
            "              precision    recall  f1-score   support\n",
            "\n",
            "           0       0.67      1.00      0.80         4\n",
            "           1       1.00      0.71      0.83         7\n",
            "\n",
            "    accuracy                           0.82        11\n",
            "   macro avg       0.83      0.86      0.82        11\n",
            "weighted avg       0.88      0.82      0.82        11\n",
            "\n",
            "Confusion matrix \n",
            "[[4 0]\n",
            " [2 5]]\n",
            "1.0\n",
            "Classification report \n",
            "              precision    recall  f1-score   support\n",
            "\n",
            "           0       1.00      1.00      1.00         6\n",
            "           1       1.00      1.00      1.00         4\n",
            "\n",
            "    accuracy                           1.00        10\n",
            "   macro avg       1.00      1.00      1.00        10\n",
            "weighted avg       1.00      1.00      1.00        10\n",
            "\n",
            "Confusion matrix \n",
            "[[6 0]\n",
            " [0 4]]\n"
          ]
        }
      ],
      "source": [
        "params = {'n_estimators' : [10*i for i in range(1,5)], 'max_depth' : [2,3,4]}\n",
        "model = xgb.XGBClassifier()\n",
        "\n",
        "results['XGBoost'] = evaluate_model(model,params= params)"
      ],
      "id": "3e1ac930-bd14-41f3-828a-dcb57c35dca2"
    },
    {
      "cell_type": "code",
      "source": [
        "results['XGBoost']"
      ],
      "metadata": {
        "id": "c_U8103MG8Aa",
        "colab": {
          "base_uri": "https://localhost:8080/"
        },
        "outputId": "190c903c-dd7e-4cd1-d369-94cc40b9dc78"
      },
      "execution_count": 597,
      "outputs": [
        {
          "output_type": "execute_result",
          "data": {
            "text/plain": [
              "{'best_score': 1.0,\n",
              " 'params': {'max_depth': 2, 'n_estimators': 10},\n",
              " 'scores': [0.5714285714285715, 0.8333333333333333, 1.0],\n",
              " 'average_score': 0.8015873015873015}"
            ]
          },
          "metadata": {},
          "execution_count": 597
        }
      ],
      "id": "c_U8103MG8Aa"
    },
    {
      "cell_type": "markdown",
      "metadata": {
        "id": "7e05df94-9427-4ea4-ab40-115fa1169c8c"
      },
      "source": [
        "# Final models"
      ],
      "id": "7e05df94-9427-4ea4-ab40-115fa1169c8c"
    },
    {
      "cell_type": "code",
      "source": [
        "final_model = {}"
      ],
      "metadata": {
        "id": "JP_BcggyC6L4"
      },
      "execution_count": 598,
      "outputs": [],
      "id": "JP_BcggyC6L4"
    },
    {
      "cell_type": "code",
      "execution_count": 609,
      "metadata": {
        "id": "ad216c2c-d87b-40f4-9e4f-422ef1460589",
        "colab": {
          "base_uri": "https://localhost:8080/",
          "height": 74
        },
        "outputId": "3c98ce03-a58f-4b80-984b-0c4dcb4fe897"
      },
      "outputs": [
        {
          "output_type": "execute_result",
          "data": {
            "text/plain": [
              "LogisticRegression()"
            ],
            "text/html": [
              "<style>#sk-container-id-61 {color: black;background-color: white;}#sk-container-id-61 pre{padding: 0;}#sk-container-id-61 div.sk-toggleable {background-color: white;}#sk-container-id-61 label.sk-toggleable__label {cursor: pointer;display: block;width: 100%;margin-bottom: 0;padding: 0.3em;box-sizing: border-box;text-align: center;}#sk-container-id-61 label.sk-toggleable__label-arrow:before {content: \"▸\";float: left;margin-right: 0.25em;color: #696969;}#sk-container-id-61 label.sk-toggleable__label-arrow:hover:before {color: black;}#sk-container-id-61 div.sk-estimator:hover label.sk-toggleable__label-arrow:before {color: black;}#sk-container-id-61 div.sk-toggleable__content {max-height: 0;max-width: 0;overflow: hidden;text-align: left;background-color: #f0f8ff;}#sk-container-id-61 div.sk-toggleable__content pre {margin: 0.2em;color: black;border-radius: 0.25em;background-color: #f0f8ff;}#sk-container-id-61 input.sk-toggleable__control:checked~div.sk-toggleable__content {max-height: 200px;max-width: 100%;overflow: auto;}#sk-container-id-61 input.sk-toggleable__control:checked~label.sk-toggleable__label-arrow:before {content: \"▾\";}#sk-container-id-61 div.sk-estimator input.sk-toggleable__control:checked~label.sk-toggleable__label {background-color: #d4ebff;}#sk-container-id-61 div.sk-label input.sk-toggleable__control:checked~label.sk-toggleable__label {background-color: #d4ebff;}#sk-container-id-61 input.sk-hidden--visually {border: 0;clip: rect(1px 1px 1px 1px);clip: rect(1px, 1px, 1px, 1px);height: 1px;margin: -1px;overflow: hidden;padding: 0;position: absolute;width: 1px;}#sk-container-id-61 div.sk-estimator {font-family: monospace;background-color: #f0f8ff;border: 1px dotted black;border-radius: 0.25em;box-sizing: border-box;margin-bottom: 0.5em;}#sk-container-id-61 div.sk-estimator:hover {background-color: #d4ebff;}#sk-container-id-61 div.sk-parallel-item::after {content: \"\";width: 100%;border-bottom: 1px solid gray;flex-grow: 1;}#sk-container-id-61 div.sk-label:hover label.sk-toggleable__label {background-color: #d4ebff;}#sk-container-id-61 div.sk-serial::before {content: \"\";position: absolute;border-left: 1px solid gray;box-sizing: border-box;top: 0;bottom: 0;left: 50%;z-index: 0;}#sk-container-id-61 div.sk-serial {display: flex;flex-direction: column;align-items: center;background-color: white;padding-right: 0.2em;padding-left: 0.2em;position: relative;}#sk-container-id-61 div.sk-item {position: relative;z-index: 1;}#sk-container-id-61 div.sk-parallel {display: flex;align-items: stretch;justify-content: center;background-color: white;position: relative;}#sk-container-id-61 div.sk-item::before, #sk-container-id-61 div.sk-parallel-item::before {content: \"\";position: absolute;border-left: 1px solid gray;box-sizing: border-box;top: 0;bottom: 0;left: 50%;z-index: -1;}#sk-container-id-61 div.sk-parallel-item {display: flex;flex-direction: column;z-index: 1;position: relative;background-color: white;}#sk-container-id-61 div.sk-parallel-item:first-child::after {align-self: flex-end;width: 50%;}#sk-container-id-61 div.sk-parallel-item:last-child::after {align-self: flex-start;width: 50%;}#sk-container-id-61 div.sk-parallel-item:only-child::after {width: 0;}#sk-container-id-61 div.sk-dashed-wrapped {border: 1px dashed gray;margin: 0 0.4em 0.5em 0.4em;box-sizing: border-box;padding-bottom: 0.4em;background-color: white;}#sk-container-id-61 div.sk-label label {font-family: monospace;font-weight: bold;display: inline-block;line-height: 1.2em;}#sk-container-id-61 div.sk-label-container {text-align: center;}#sk-container-id-61 div.sk-container {/* jupyter's `normalize.less` sets `[hidden] { display: none; }` but bootstrap.min.css set `[hidden] { display: none !important; }` so we also need the `!important` here to be able to override the default hidden behavior on the sphinx rendered scikit-learn.org. See: https://github.com/scikit-learn/scikit-learn/issues/21755 */display: inline-block !important;position: relative;}#sk-container-id-61 div.sk-text-repr-fallback {display: none;}</style><div id=\"sk-container-id-61\" class=\"sk-top-container\"><div class=\"sk-text-repr-fallback\"><pre>LogisticRegression()</pre><b>In a Jupyter environment, please rerun this cell to show the HTML representation or trust the notebook. <br />On GitHub, the HTML representation is unable to render, please try loading this page with nbviewer.org.</b></div><div class=\"sk-container\" hidden><div class=\"sk-item\"><div class=\"sk-estimator sk-toggleable\"><input class=\"sk-toggleable__control sk-hidden--visually\" id=\"sk-estimator-id-61\" type=\"checkbox\" checked><label for=\"sk-estimator-id-61\" class=\"sk-toggleable__label sk-toggleable__label-arrow\">LogisticRegression</label><div class=\"sk-toggleable__content\"><pre>LogisticRegression()</pre></div></div></div></div></div>"
            ]
          },
          "metadata": {},
          "execution_count": 609
        }
      ],
      "source": [
        "final_model['Logistic Regression']  = linear_model.LogisticRegression(penalty='l2', C=1.0)\n",
        "final_model['Logistic Regression'].fit(x,y)"
      ],
      "id": "ad216c2c-d87b-40f4-9e4f-422ef1460589"
    },
    {
      "cell_type": "code",
      "source": [
        "final_model['Logistic Regression'].intercept_"
      ],
      "metadata": {
        "colab": {
          "base_uri": "https://localhost:8080/"
        },
        "id": "xEzWRaIVj__1",
        "outputId": "d405dab8-690a-4c23-f8c3-359ff7023aad"
      },
      "id": "xEzWRaIVj__1",
      "execution_count": 615,
      "outputs": [
        {
          "output_type": "execute_result",
          "data": {
            "text/plain": [
              "array([-4.66197341])"
            ]
          },
          "metadata": {},
          "execution_count": 615
        }
      ]
    },
    {
      "cell_type": "code",
      "execution_count": 600,
      "metadata": {
        "id": "8221b193-7f51-4a3d-8927-100714e86354",
        "colab": {
          "base_uri": "https://localhost:8080/",
          "height": 109
        },
        "outputId": "aae0562d-c117-40e4-8f25-e2969029ea2e"
      },
      "outputs": [
        {
          "output_type": "stream",
          "name": "stderr",
          "text": [
            "/usr/local/lib/python3.10/dist-packages/sklearn/svm/_base.py:1244: ConvergenceWarning: Liblinear failed to converge, increase the number of iterations.\n",
            "  warnings.warn(\n"
          ]
        },
        {
          "output_type": "execute_result",
          "data": {
            "text/plain": [
              "LinearSVC()"
            ],
            "text/html": [
              "<style>#sk-container-id-56 {color: black;background-color: white;}#sk-container-id-56 pre{padding: 0;}#sk-container-id-56 div.sk-toggleable {background-color: white;}#sk-container-id-56 label.sk-toggleable__label {cursor: pointer;display: block;width: 100%;margin-bottom: 0;padding: 0.3em;box-sizing: border-box;text-align: center;}#sk-container-id-56 label.sk-toggleable__label-arrow:before {content: \"▸\";float: left;margin-right: 0.25em;color: #696969;}#sk-container-id-56 label.sk-toggleable__label-arrow:hover:before {color: black;}#sk-container-id-56 div.sk-estimator:hover label.sk-toggleable__label-arrow:before {color: black;}#sk-container-id-56 div.sk-toggleable__content {max-height: 0;max-width: 0;overflow: hidden;text-align: left;background-color: #f0f8ff;}#sk-container-id-56 div.sk-toggleable__content pre {margin: 0.2em;color: black;border-radius: 0.25em;background-color: #f0f8ff;}#sk-container-id-56 input.sk-toggleable__control:checked~div.sk-toggleable__content {max-height: 200px;max-width: 100%;overflow: auto;}#sk-container-id-56 input.sk-toggleable__control:checked~label.sk-toggleable__label-arrow:before {content: \"▾\";}#sk-container-id-56 div.sk-estimator input.sk-toggleable__control:checked~label.sk-toggleable__label {background-color: #d4ebff;}#sk-container-id-56 div.sk-label input.sk-toggleable__control:checked~label.sk-toggleable__label {background-color: #d4ebff;}#sk-container-id-56 input.sk-hidden--visually {border: 0;clip: rect(1px 1px 1px 1px);clip: rect(1px, 1px, 1px, 1px);height: 1px;margin: -1px;overflow: hidden;padding: 0;position: absolute;width: 1px;}#sk-container-id-56 div.sk-estimator {font-family: monospace;background-color: #f0f8ff;border: 1px dotted black;border-radius: 0.25em;box-sizing: border-box;margin-bottom: 0.5em;}#sk-container-id-56 div.sk-estimator:hover {background-color: #d4ebff;}#sk-container-id-56 div.sk-parallel-item::after {content: \"\";width: 100%;border-bottom: 1px solid gray;flex-grow: 1;}#sk-container-id-56 div.sk-label:hover label.sk-toggleable__label {background-color: #d4ebff;}#sk-container-id-56 div.sk-serial::before {content: \"\";position: absolute;border-left: 1px solid gray;box-sizing: border-box;top: 0;bottom: 0;left: 50%;z-index: 0;}#sk-container-id-56 div.sk-serial {display: flex;flex-direction: column;align-items: center;background-color: white;padding-right: 0.2em;padding-left: 0.2em;position: relative;}#sk-container-id-56 div.sk-item {position: relative;z-index: 1;}#sk-container-id-56 div.sk-parallel {display: flex;align-items: stretch;justify-content: center;background-color: white;position: relative;}#sk-container-id-56 div.sk-item::before, #sk-container-id-56 div.sk-parallel-item::before {content: \"\";position: absolute;border-left: 1px solid gray;box-sizing: border-box;top: 0;bottom: 0;left: 50%;z-index: -1;}#sk-container-id-56 div.sk-parallel-item {display: flex;flex-direction: column;z-index: 1;position: relative;background-color: white;}#sk-container-id-56 div.sk-parallel-item:first-child::after {align-self: flex-end;width: 50%;}#sk-container-id-56 div.sk-parallel-item:last-child::after {align-self: flex-start;width: 50%;}#sk-container-id-56 div.sk-parallel-item:only-child::after {width: 0;}#sk-container-id-56 div.sk-dashed-wrapped {border: 1px dashed gray;margin: 0 0.4em 0.5em 0.4em;box-sizing: border-box;padding-bottom: 0.4em;background-color: white;}#sk-container-id-56 div.sk-label label {font-family: monospace;font-weight: bold;display: inline-block;line-height: 1.2em;}#sk-container-id-56 div.sk-label-container {text-align: center;}#sk-container-id-56 div.sk-container {/* jupyter's `normalize.less` sets `[hidden] { display: none; }` but bootstrap.min.css set `[hidden] { display: none !important; }` so we also need the `!important` here to be able to override the default hidden behavior on the sphinx rendered scikit-learn.org. See: https://github.com/scikit-learn/scikit-learn/issues/21755 */display: inline-block !important;position: relative;}#sk-container-id-56 div.sk-text-repr-fallback {display: none;}</style><div id=\"sk-container-id-56\" class=\"sk-top-container\"><div class=\"sk-text-repr-fallback\"><pre>LinearSVC()</pre><b>In a Jupyter environment, please rerun this cell to show the HTML representation or trust the notebook. <br />On GitHub, the HTML representation is unable to render, please try loading this page with nbviewer.org.</b></div><div class=\"sk-container\" hidden><div class=\"sk-item\"><div class=\"sk-estimator sk-toggleable\"><input class=\"sk-toggleable__control sk-hidden--visually\" id=\"sk-estimator-id-56\" type=\"checkbox\" checked><label for=\"sk-estimator-id-56\" class=\"sk-toggleable__label sk-toggleable__label-arrow\">LinearSVC</label><div class=\"sk-toggleable__content\"><pre>LinearSVC()</pre></div></div></div></div></div>"
            ]
          },
          "metadata": {},
          "execution_count": 600
        }
      ],
      "source": [
        "final_model['Linear SVM']  = svm.LinearSVC()\n",
        "final_model['Linear SVM'].fit(x,y)"
      ],
      "id": "8221b193-7f51-4a3d-8927-100714e86354"
    },
    {
      "cell_type": "code",
      "execution_count": 601,
      "metadata": {
        "id": "862456d7-aaa9-4e6b-9028-a7a08f61b2b4",
        "colab": {
          "base_uri": "https://localhost:8080/",
          "height": 74
        },
        "outputId": "5dcae321-25e5-48b3-f285-95455582139e"
      },
      "outputs": [
        {
          "output_type": "execute_result",
          "data": {
            "text/plain": [
              "SVC(C=10, gamma=0.001)"
            ],
            "text/html": [
              "<style>#sk-container-id-57 {color: black;background-color: white;}#sk-container-id-57 pre{padding: 0;}#sk-container-id-57 div.sk-toggleable {background-color: white;}#sk-container-id-57 label.sk-toggleable__label {cursor: pointer;display: block;width: 100%;margin-bottom: 0;padding: 0.3em;box-sizing: border-box;text-align: center;}#sk-container-id-57 label.sk-toggleable__label-arrow:before {content: \"▸\";float: left;margin-right: 0.25em;color: #696969;}#sk-container-id-57 label.sk-toggleable__label-arrow:hover:before {color: black;}#sk-container-id-57 div.sk-estimator:hover label.sk-toggleable__label-arrow:before {color: black;}#sk-container-id-57 div.sk-toggleable__content {max-height: 0;max-width: 0;overflow: hidden;text-align: left;background-color: #f0f8ff;}#sk-container-id-57 div.sk-toggleable__content pre {margin: 0.2em;color: black;border-radius: 0.25em;background-color: #f0f8ff;}#sk-container-id-57 input.sk-toggleable__control:checked~div.sk-toggleable__content {max-height: 200px;max-width: 100%;overflow: auto;}#sk-container-id-57 input.sk-toggleable__control:checked~label.sk-toggleable__label-arrow:before {content: \"▾\";}#sk-container-id-57 div.sk-estimator input.sk-toggleable__control:checked~label.sk-toggleable__label {background-color: #d4ebff;}#sk-container-id-57 div.sk-label input.sk-toggleable__control:checked~label.sk-toggleable__label {background-color: #d4ebff;}#sk-container-id-57 input.sk-hidden--visually {border: 0;clip: rect(1px 1px 1px 1px);clip: rect(1px, 1px, 1px, 1px);height: 1px;margin: -1px;overflow: hidden;padding: 0;position: absolute;width: 1px;}#sk-container-id-57 div.sk-estimator {font-family: monospace;background-color: #f0f8ff;border: 1px dotted black;border-radius: 0.25em;box-sizing: border-box;margin-bottom: 0.5em;}#sk-container-id-57 div.sk-estimator:hover {background-color: #d4ebff;}#sk-container-id-57 div.sk-parallel-item::after {content: \"\";width: 100%;border-bottom: 1px solid gray;flex-grow: 1;}#sk-container-id-57 div.sk-label:hover label.sk-toggleable__label {background-color: #d4ebff;}#sk-container-id-57 div.sk-serial::before {content: \"\";position: absolute;border-left: 1px solid gray;box-sizing: border-box;top: 0;bottom: 0;left: 50%;z-index: 0;}#sk-container-id-57 div.sk-serial {display: flex;flex-direction: column;align-items: center;background-color: white;padding-right: 0.2em;padding-left: 0.2em;position: relative;}#sk-container-id-57 div.sk-item {position: relative;z-index: 1;}#sk-container-id-57 div.sk-parallel {display: flex;align-items: stretch;justify-content: center;background-color: white;position: relative;}#sk-container-id-57 div.sk-item::before, #sk-container-id-57 div.sk-parallel-item::before {content: \"\";position: absolute;border-left: 1px solid gray;box-sizing: border-box;top: 0;bottom: 0;left: 50%;z-index: -1;}#sk-container-id-57 div.sk-parallel-item {display: flex;flex-direction: column;z-index: 1;position: relative;background-color: white;}#sk-container-id-57 div.sk-parallel-item:first-child::after {align-self: flex-end;width: 50%;}#sk-container-id-57 div.sk-parallel-item:last-child::after {align-self: flex-start;width: 50%;}#sk-container-id-57 div.sk-parallel-item:only-child::after {width: 0;}#sk-container-id-57 div.sk-dashed-wrapped {border: 1px dashed gray;margin: 0 0.4em 0.5em 0.4em;box-sizing: border-box;padding-bottom: 0.4em;background-color: white;}#sk-container-id-57 div.sk-label label {font-family: monospace;font-weight: bold;display: inline-block;line-height: 1.2em;}#sk-container-id-57 div.sk-label-container {text-align: center;}#sk-container-id-57 div.sk-container {/* jupyter's `normalize.less` sets `[hidden] { display: none; }` but bootstrap.min.css set `[hidden] { display: none !important; }` so we also need the `!important` here to be able to override the default hidden behavior on the sphinx rendered scikit-learn.org. See: https://github.com/scikit-learn/scikit-learn/issues/21755 */display: inline-block !important;position: relative;}#sk-container-id-57 div.sk-text-repr-fallback {display: none;}</style><div id=\"sk-container-id-57\" class=\"sk-top-container\"><div class=\"sk-text-repr-fallback\"><pre>SVC(C=10, gamma=0.001)</pre><b>In a Jupyter environment, please rerun this cell to show the HTML representation or trust the notebook. <br />On GitHub, the HTML representation is unable to render, please try loading this page with nbviewer.org.</b></div><div class=\"sk-container\" hidden><div class=\"sk-item\"><div class=\"sk-estimator sk-toggleable\"><input class=\"sk-toggleable__control sk-hidden--visually\" id=\"sk-estimator-id-57\" type=\"checkbox\" checked><label for=\"sk-estimator-id-57\" class=\"sk-toggleable__label sk-toggleable__label-arrow\">SVC</label><div class=\"sk-toggleable__content\"><pre>SVC(C=10, gamma=0.001)</pre></div></div></div></div></div>"
            ]
          },
          "metadata": {},
          "execution_count": 601
        }
      ],
      "source": [
        "params = results['SVM']['params']\n",
        "gamma = params['gamma']\n",
        "C = params['C']\n",
        "final_model['SVM'] = svm.SVC(C=C,gamma=gamma)\n",
        "final_model['SVM'].fit(x,y)"
      ],
      "id": "862456d7-aaa9-4e6b-9028-a7a08f61b2b4"
    },
    {
      "cell_type": "code",
      "execution_count": 602,
      "metadata": {
        "id": "b413ed9e-a4d5-4422-9fdf-0d20bb4d3a00",
        "colab": {
          "base_uri": "https://localhost:8080/",
          "height": 74
        },
        "outputId": "e3d65afd-1d4e-476b-8050-f0d6c8864ee9"
      },
      "outputs": [
        {
          "output_type": "execute_result",
          "data": {
            "text/plain": [
              "GaussianNB()"
            ],
            "text/html": [
              "<style>#sk-container-id-58 {color: black;background-color: white;}#sk-container-id-58 pre{padding: 0;}#sk-container-id-58 div.sk-toggleable {background-color: white;}#sk-container-id-58 label.sk-toggleable__label {cursor: pointer;display: block;width: 100%;margin-bottom: 0;padding: 0.3em;box-sizing: border-box;text-align: center;}#sk-container-id-58 label.sk-toggleable__label-arrow:before {content: \"▸\";float: left;margin-right: 0.25em;color: #696969;}#sk-container-id-58 label.sk-toggleable__label-arrow:hover:before {color: black;}#sk-container-id-58 div.sk-estimator:hover label.sk-toggleable__label-arrow:before {color: black;}#sk-container-id-58 div.sk-toggleable__content {max-height: 0;max-width: 0;overflow: hidden;text-align: left;background-color: #f0f8ff;}#sk-container-id-58 div.sk-toggleable__content pre {margin: 0.2em;color: black;border-radius: 0.25em;background-color: #f0f8ff;}#sk-container-id-58 input.sk-toggleable__control:checked~div.sk-toggleable__content {max-height: 200px;max-width: 100%;overflow: auto;}#sk-container-id-58 input.sk-toggleable__control:checked~label.sk-toggleable__label-arrow:before {content: \"▾\";}#sk-container-id-58 div.sk-estimator input.sk-toggleable__control:checked~label.sk-toggleable__label {background-color: #d4ebff;}#sk-container-id-58 div.sk-label input.sk-toggleable__control:checked~label.sk-toggleable__label {background-color: #d4ebff;}#sk-container-id-58 input.sk-hidden--visually {border: 0;clip: rect(1px 1px 1px 1px);clip: rect(1px, 1px, 1px, 1px);height: 1px;margin: -1px;overflow: hidden;padding: 0;position: absolute;width: 1px;}#sk-container-id-58 div.sk-estimator {font-family: monospace;background-color: #f0f8ff;border: 1px dotted black;border-radius: 0.25em;box-sizing: border-box;margin-bottom: 0.5em;}#sk-container-id-58 div.sk-estimator:hover {background-color: #d4ebff;}#sk-container-id-58 div.sk-parallel-item::after {content: \"\";width: 100%;border-bottom: 1px solid gray;flex-grow: 1;}#sk-container-id-58 div.sk-label:hover label.sk-toggleable__label {background-color: #d4ebff;}#sk-container-id-58 div.sk-serial::before {content: \"\";position: absolute;border-left: 1px solid gray;box-sizing: border-box;top: 0;bottom: 0;left: 50%;z-index: 0;}#sk-container-id-58 div.sk-serial {display: flex;flex-direction: column;align-items: center;background-color: white;padding-right: 0.2em;padding-left: 0.2em;position: relative;}#sk-container-id-58 div.sk-item {position: relative;z-index: 1;}#sk-container-id-58 div.sk-parallel {display: flex;align-items: stretch;justify-content: center;background-color: white;position: relative;}#sk-container-id-58 div.sk-item::before, #sk-container-id-58 div.sk-parallel-item::before {content: \"\";position: absolute;border-left: 1px solid gray;box-sizing: border-box;top: 0;bottom: 0;left: 50%;z-index: -1;}#sk-container-id-58 div.sk-parallel-item {display: flex;flex-direction: column;z-index: 1;position: relative;background-color: white;}#sk-container-id-58 div.sk-parallel-item:first-child::after {align-self: flex-end;width: 50%;}#sk-container-id-58 div.sk-parallel-item:last-child::after {align-self: flex-start;width: 50%;}#sk-container-id-58 div.sk-parallel-item:only-child::after {width: 0;}#sk-container-id-58 div.sk-dashed-wrapped {border: 1px dashed gray;margin: 0 0.4em 0.5em 0.4em;box-sizing: border-box;padding-bottom: 0.4em;background-color: white;}#sk-container-id-58 div.sk-label label {font-family: monospace;font-weight: bold;display: inline-block;line-height: 1.2em;}#sk-container-id-58 div.sk-label-container {text-align: center;}#sk-container-id-58 div.sk-container {/* jupyter's `normalize.less` sets `[hidden] { display: none; }` but bootstrap.min.css set `[hidden] { display: none !important; }` so we also need the `!important` here to be able to override the default hidden behavior on the sphinx rendered scikit-learn.org. See: https://github.com/scikit-learn/scikit-learn/issues/21755 */display: inline-block !important;position: relative;}#sk-container-id-58 div.sk-text-repr-fallback {display: none;}</style><div id=\"sk-container-id-58\" class=\"sk-top-container\"><div class=\"sk-text-repr-fallback\"><pre>GaussianNB()</pre><b>In a Jupyter environment, please rerun this cell to show the HTML representation or trust the notebook. <br />On GitHub, the HTML representation is unable to render, please try loading this page with nbviewer.org.</b></div><div class=\"sk-container\" hidden><div class=\"sk-item\"><div class=\"sk-estimator sk-toggleable\"><input class=\"sk-toggleable__control sk-hidden--visually\" id=\"sk-estimator-id-58\" type=\"checkbox\" checked><label for=\"sk-estimator-id-58\" class=\"sk-toggleable__label sk-toggleable__label-arrow\">GaussianNB</label><div class=\"sk-toggleable__content\"><pre>GaussianNB()</pre></div></div></div></div></div>"
            ]
          },
          "metadata": {},
          "execution_count": 602
        }
      ],
      "source": [
        "final_model['Gaussian Nb']  = naive_bayes.GaussianNB()\n",
        "final_model['Gaussian Nb'].fit(x,y)\n"
      ],
      "id": "b413ed9e-a4d5-4422-9fdf-0d20bb4d3a00"
    },
    {
      "cell_type": "code",
      "execution_count": 603,
      "metadata": {
        "id": "99012c38-9480-4f1f-aa48-963795e2c141",
        "colab": {
          "base_uri": "https://localhost:8080/",
          "height": 74
        },
        "outputId": "25b0b4b9-25d6-4b40-bd3d-394eec88092a"
      },
      "outputs": [
        {
          "output_type": "execute_result",
          "data": {
            "text/plain": [
              "RandomForestClassifier(max_depth=3, n_estimators=10)"
            ],
            "text/html": [
              "<style>#sk-container-id-59 {color: black;background-color: white;}#sk-container-id-59 pre{padding: 0;}#sk-container-id-59 div.sk-toggleable {background-color: white;}#sk-container-id-59 label.sk-toggleable__label {cursor: pointer;display: block;width: 100%;margin-bottom: 0;padding: 0.3em;box-sizing: border-box;text-align: center;}#sk-container-id-59 label.sk-toggleable__label-arrow:before {content: \"▸\";float: left;margin-right: 0.25em;color: #696969;}#sk-container-id-59 label.sk-toggleable__label-arrow:hover:before {color: black;}#sk-container-id-59 div.sk-estimator:hover label.sk-toggleable__label-arrow:before {color: black;}#sk-container-id-59 div.sk-toggleable__content {max-height: 0;max-width: 0;overflow: hidden;text-align: left;background-color: #f0f8ff;}#sk-container-id-59 div.sk-toggleable__content pre {margin: 0.2em;color: black;border-radius: 0.25em;background-color: #f0f8ff;}#sk-container-id-59 input.sk-toggleable__control:checked~div.sk-toggleable__content {max-height: 200px;max-width: 100%;overflow: auto;}#sk-container-id-59 input.sk-toggleable__control:checked~label.sk-toggleable__label-arrow:before {content: \"▾\";}#sk-container-id-59 div.sk-estimator input.sk-toggleable__control:checked~label.sk-toggleable__label {background-color: #d4ebff;}#sk-container-id-59 div.sk-label input.sk-toggleable__control:checked~label.sk-toggleable__label {background-color: #d4ebff;}#sk-container-id-59 input.sk-hidden--visually {border: 0;clip: rect(1px 1px 1px 1px);clip: rect(1px, 1px, 1px, 1px);height: 1px;margin: -1px;overflow: hidden;padding: 0;position: absolute;width: 1px;}#sk-container-id-59 div.sk-estimator {font-family: monospace;background-color: #f0f8ff;border: 1px dotted black;border-radius: 0.25em;box-sizing: border-box;margin-bottom: 0.5em;}#sk-container-id-59 div.sk-estimator:hover {background-color: #d4ebff;}#sk-container-id-59 div.sk-parallel-item::after {content: \"\";width: 100%;border-bottom: 1px solid gray;flex-grow: 1;}#sk-container-id-59 div.sk-label:hover label.sk-toggleable__label {background-color: #d4ebff;}#sk-container-id-59 div.sk-serial::before {content: \"\";position: absolute;border-left: 1px solid gray;box-sizing: border-box;top: 0;bottom: 0;left: 50%;z-index: 0;}#sk-container-id-59 div.sk-serial {display: flex;flex-direction: column;align-items: center;background-color: white;padding-right: 0.2em;padding-left: 0.2em;position: relative;}#sk-container-id-59 div.sk-item {position: relative;z-index: 1;}#sk-container-id-59 div.sk-parallel {display: flex;align-items: stretch;justify-content: center;background-color: white;position: relative;}#sk-container-id-59 div.sk-item::before, #sk-container-id-59 div.sk-parallel-item::before {content: \"\";position: absolute;border-left: 1px solid gray;box-sizing: border-box;top: 0;bottom: 0;left: 50%;z-index: -1;}#sk-container-id-59 div.sk-parallel-item {display: flex;flex-direction: column;z-index: 1;position: relative;background-color: white;}#sk-container-id-59 div.sk-parallel-item:first-child::after {align-self: flex-end;width: 50%;}#sk-container-id-59 div.sk-parallel-item:last-child::after {align-self: flex-start;width: 50%;}#sk-container-id-59 div.sk-parallel-item:only-child::after {width: 0;}#sk-container-id-59 div.sk-dashed-wrapped {border: 1px dashed gray;margin: 0 0.4em 0.5em 0.4em;box-sizing: border-box;padding-bottom: 0.4em;background-color: white;}#sk-container-id-59 div.sk-label label {font-family: monospace;font-weight: bold;display: inline-block;line-height: 1.2em;}#sk-container-id-59 div.sk-label-container {text-align: center;}#sk-container-id-59 div.sk-container {/* jupyter's `normalize.less` sets `[hidden] { display: none; }` but bootstrap.min.css set `[hidden] { display: none !important; }` so we also need the `!important` here to be able to override the default hidden behavior on the sphinx rendered scikit-learn.org. See: https://github.com/scikit-learn/scikit-learn/issues/21755 */display: inline-block !important;position: relative;}#sk-container-id-59 div.sk-text-repr-fallback {display: none;}</style><div id=\"sk-container-id-59\" class=\"sk-top-container\"><div class=\"sk-text-repr-fallback\"><pre>RandomForestClassifier(max_depth=3, n_estimators=10)</pre><b>In a Jupyter environment, please rerun this cell to show the HTML representation or trust the notebook. <br />On GitHub, the HTML representation is unable to render, please try loading this page with nbviewer.org.</b></div><div class=\"sk-container\" hidden><div class=\"sk-item\"><div class=\"sk-estimator sk-toggleable\"><input class=\"sk-toggleable__control sk-hidden--visually\" id=\"sk-estimator-id-59\" type=\"checkbox\" checked><label for=\"sk-estimator-id-59\" class=\"sk-toggleable__label sk-toggleable__label-arrow\">RandomForestClassifier</label><div class=\"sk-toggleable__content\"><pre>RandomForestClassifier(max_depth=3, n_estimators=10)</pre></div></div></div></div></div>"
            ]
          },
          "metadata": {},
          "execution_count": 603
        }
      ],
      "source": [
        "\n",
        "params = results['Random Forest']['params']\n",
        "n_estimators = params['n_estimators']\n",
        "max_depth = params['max_depth']\n",
        "final_model['Random Forest']  =ensemble.RandomForestClassifier(n_estimators = n_estimators, max_depth = max_depth)\n",
        "final_model['Random Forest'].fit(x,y)"
      ],
      "id": "99012c38-9480-4f1f-aa48-963795e2c141"
    },
    {
      "cell_type": "code",
      "execution_count": 604,
      "metadata": {
        "id": "39368c04-308a-434e-b52f-71ba46692ffe",
        "colab": {
          "base_uri": "https://localhost:8080/",
          "height": 248
        },
        "outputId": "63ae3afd-ec89-4e48-f328-32a644ee1a59"
      },
      "outputs": [
        {
          "output_type": "execute_result",
          "data": {
            "text/plain": [
              "XGBClassifier(base_score=None, booster=None, callbacks=None,\n",
              "              colsample_bylevel=None, colsample_bynode=None,\n",
              "              colsample_bytree=None, early_stopping_rounds=None,\n",
              "              enable_categorical=False, eval_metric=None, feature_types=None,\n",
              "              gamma=None, gpu_id=None, grow_policy=None, importance_type=None,\n",
              "              interaction_constraints=None, learning_rate=None, max_bin=None,\n",
              "              max_cat_threshold=None, max_cat_to_onehot=None,\n",
              "              max_delta_step=None, max_depth=2, max_leaves=None,\n",
              "              min_child_weight=None, missing=nan, monotone_constraints=None,\n",
              "              n_estimators=10, n_jobs=None, num_parallel_tree=None,\n",
              "              predictor=None, random_state=None, ...)"
            ],
            "text/html": [
              "<style>#sk-container-id-60 {color: black;background-color: white;}#sk-container-id-60 pre{padding: 0;}#sk-container-id-60 div.sk-toggleable {background-color: white;}#sk-container-id-60 label.sk-toggleable__label {cursor: pointer;display: block;width: 100%;margin-bottom: 0;padding: 0.3em;box-sizing: border-box;text-align: center;}#sk-container-id-60 label.sk-toggleable__label-arrow:before {content: \"▸\";float: left;margin-right: 0.25em;color: #696969;}#sk-container-id-60 label.sk-toggleable__label-arrow:hover:before {color: black;}#sk-container-id-60 div.sk-estimator:hover label.sk-toggleable__label-arrow:before {color: black;}#sk-container-id-60 div.sk-toggleable__content {max-height: 0;max-width: 0;overflow: hidden;text-align: left;background-color: #f0f8ff;}#sk-container-id-60 div.sk-toggleable__content pre {margin: 0.2em;color: black;border-radius: 0.25em;background-color: #f0f8ff;}#sk-container-id-60 input.sk-toggleable__control:checked~div.sk-toggleable__content {max-height: 200px;max-width: 100%;overflow: auto;}#sk-container-id-60 input.sk-toggleable__control:checked~label.sk-toggleable__label-arrow:before {content: \"▾\";}#sk-container-id-60 div.sk-estimator input.sk-toggleable__control:checked~label.sk-toggleable__label {background-color: #d4ebff;}#sk-container-id-60 div.sk-label input.sk-toggleable__control:checked~label.sk-toggleable__label {background-color: #d4ebff;}#sk-container-id-60 input.sk-hidden--visually {border: 0;clip: rect(1px 1px 1px 1px);clip: rect(1px, 1px, 1px, 1px);height: 1px;margin: -1px;overflow: hidden;padding: 0;position: absolute;width: 1px;}#sk-container-id-60 div.sk-estimator {font-family: monospace;background-color: #f0f8ff;border: 1px dotted black;border-radius: 0.25em;box-sizing: border-box;margin-bottom: 0.5em;}#sk-container-id-60 div.sk-estimator:hover {background-color: #d4ebff;}#sk-container-id-60 div.sk-parallel-item::after {content: \"\";width: 100%;border-bottom: 1px solid gray;flex-grow: 1;}#sk-container-id-60 div.sk-label:hover label.sk-toggleable__label {background-color: #d4ebff;}#sk-container-id-60 div.sk-serial::before {content: \"\";position: absolute;border-left: 1px solid gray;box-sizing: border-box;top: 0;bottom: 0;left: 50%;z-index: 0;}#sk-container-id-60 div.sk-serial {display: flex;flex-direction: column;align-items: center;background-color: white;padding-right: 0.2em;padding-left: 0.2em;position: relative;}#sk-container-id-60 div.sk-item {position: relative;z-index: 1;}#sk-container-id-60 div.sk-parallel {display: flex;align-items: stretch;justify-content: center;background-color: white;position: relative;}#sk-container-id-60 div.sk-item::before, #sk-container-id-60 div.sk-parallel-item::before {content: \"\";position: absolute;border-left: 1px solid gray;box-sizing: border-box;top: 0;bottom: 0;left: 50%;z-index: -1;}#sk-container-id-60 div.sk-parallel-item {display: flex;flex-direction: column;z-index: 1;position: relative;background-color: white;}#sk-container-id-60 div.sk-parallel-item:first-child::after {align-self: flex-end;width: 50%;}#sk-container-id-60 div.sk-parallel-item:last-child::after {align-self: flex-start;width: 50%;}#sk-container-id-60 div.sk-parallel-item:only-child::after {width: 0;}#sk-container-id-60 div.sk-dashed-wrapped {border: 1px dashed gray;margin: 0 0.4em 0.5em 0.4em;box-sizing: border-box;padding-bottom: 0.4em;background-color: white;}#sk-container-id-60 div.sk-label label {font-family: monospace;font-weight: bold;display: inline-block;line-height: 1.2em;}#sk-container-id-60 div.sk-label-container {text-align: center;}#sk-container-id-60 div.sk-container {/* jupyter's `normalize.less` sets `[hidden] { display: none; }` but bootstrap.min.css set `[hidden] { display: none !important; }` so we also need the `!important` here to be able to override the default hidden behavior on the sphinx rendered scikit-learn.org. See: https://github.com/scikit-learn/scikit-learn/issues/21755 */display: inline-block !important;position: relative;}#sk-container-id-60 div.sk-text-repr-fallback {display: none;}</style><div id=\"sk-container-id-60\" class=\"sk-top-container\"><div class=\"sk-text-repr-fallback\"><pre>XGBClassifier(base_score=None, booster=None, callbacks=None,\n",
              "              colsample_bylevel=None, colsample_bynode=None,\n",
              "              colsample_bytree=None, early_stopping_rounds=None,\n",
              "              enable_categorical=False, eval_metric=None, feature_types=None,\n",
              "              gamma=None, gpu_id=None, grow_policy=None, importance_type=None,\n",
              "              interaction_constraints=None, learning_rate=None, max_bin=None,\n",
              "              max_cat_threshold=None, max_cat_to_onehot=None,\n",
              "              max_delta_step=None, max_depth=2, max_leaves=None,\n",
              "              min_child_weight=None, missing=nan, monotone_constraints=None,\n",
              "              n_estimators=10, n_jobs=None, num_parallel_tree=None,\n",
              "              predictor=None, random_state=None, ...)</pre><b>In a Jupyter environment, please rerun this cell to show the HTML representation or trust the notebook. <br />On GitHub, the HTML representation is unable to render, please try loading this page with nbviewer.org.</b></div><div class=\"sk-container\" hidden><div class=\"sk-item\"><div class=\"sk-estimator sk-toggleable\"><input class=\"sk-toggleable__control sk-hidden--visually\" id=\"sk-estimator-id-60\" type=\"checkbox\" checked><label for=\"sk-estimator-id-60\" class=\"sk-toggleable__label sk-toggleable__label-arrow\">XGBClassifier</label><div class=\"sk-toggleable__content\"><pre>XGBClassifier(base_score=None, booster=None, callbacks=None,\n",
              "              colsample_bylevel=None, colsample_bynode=None,\n",
              "              colsample_bytree=None, early_stopping_rounds=None,\n",
              "              enable_categorical=False, eval_metric=None, feature_types=None,\n",
              "              gamma=None, gpu_id=None, grow_policy=None, importance_type=None,\n",
              "              interaction_constraints=None, learning_rate=None, max_bin=None,\n",
              "              max_cat_threshold=None, max_cat_to_onehot=None,\n",
              "              max_delta_step=None, max_depth=2, max_leaves=None,\n",
              "              min_child_weight=None, missing=nan, monotone_constraints=None,\n",
              "              n_estimators=10, n_jobs=None, num_parallel_tree=None,\n",
              "              predictor=None, random_state=None, ...)</pre></div></div></div></div></div>"
            ]
          },
          "metadata": {},
          "execution_count": 604
        }
      ],
      "source": [
        "params = results['XGBoost']['params']\n",
        "n_estimators = params['n_estimators']\n",
        "max_depth = params['max_depth']\n",
        "final_model['XGBoost']  = xgb.XGBClassifier(n_estimators = n_estimators, max_depth = max_depth)\n",
        "final_model['XGBoost'].fit(x,y)"
      ],
      "id": "39368c04-308a-434e-b52f-71ba46692ffe"
    },
    {
      "cell_type": "code",
      "source": [
        "import csv\n",
        "with open('results_classification.csv', 'w') as csv_file:\n",
        "    writer = csv.writer(csv_file)\n",
        "    for key, value in results.items():\n",
        "       writer.writerow([key, value])\n",
        "from google.colab import files\n",
        "files.download(\"results_classification.csv\")"
      ],
      "metadata": {
        "id": "IS4NSOiHV8XO",
        "colab": {
          "base_uri": "https://localhost:8080/",
          "height": 17
        },
        "outputId": "767a106d-c9f6-42bf-f35a-d65f665c12bb"
      },
      "id": "IS4NSOiHV8XO",
      "execution_count": 605,
      "outputs": [
        {
          "output_type": "display_data",
          "data": {
            "text/plain": [
              "<IPython.core.display.Javascript object>"
            ],
            "application/javascript": [
              "\n",
              "    async function download(id, filename, size) {\n",
              "      if (!google.colab.kernel.accessAllowed) {\n",
              "        return;\n",
              "      }\n",
              "      const div = document.createElement('div');\n",
              "      const label = document.createElement('label');\n",
              "      label.textContent = `Downloading \"${filename}\": `;\n",
              "      div.appendChild(label);\n",
              "      const progress = document.createElement('progress');\n",
              "      progress.max = size;\n",
              "      div.appendChild(progress);\n",
              "      document.body.appendChild(div);\n",
              "\n",
              "      const buffers = [];\n",
              "      let downloaded = 0;\n",
              "\n",
              "      const channel = await google.colab.kernel.comms.open(id);\n",
              "      // Send a message to notify the kernel that we're ready.\n",
              "      channel.send({})\n",
              "\n",
              "      for await (const message of channel.messages) {\n",
              "        // Send a message to notify the kernel that we're ready.\n",
              "        channel.send({})\n",
              "        if (message.buffers) {\n",
              "          for (const buffer of message.buffers) {\n",
              "            buffers.push(buffer);\n",
              "            downloaded += buffer.byteLength;\n",
              "            progress.value = downloaded;\n",
              "          }\n",
              "        }\n",
              "      }\n",
              "      const blob = new Blob(buffers, {type: 'application/binary'});\n",
              "      const a = document.createElement('a');\n",
              "      a.href = window.URL.createObjectURL(blob);\n",
              "      a.download = filename;\n",
              "      div.appendChild(a);\n",
              "      a.click();\n",
              "      div.remove();\n",
              "    }\n",
              "  "
            ]
          },
          "metadata": {}
        },
        {
          "output_type": "display_data",
          "data": {
            "text/plain": [
              "<IPython.core.display.Javascript object>"
            ],
            "application/javascript": [
              "download(\"download_a8d9e1a6-f199-41bd-b39f-c212d8b10a7a\", \"results_classification.csv\", 982)"
            ]
          },
          "metadata": {}
        }
      ]
    },
    {
      "cell_type": "code",
      "source": [],
      "metadata": {
        "id": "t51Zcq9WY7Kq"
      },
      "id": "t51Zcq9WY7Kq",
      "execution_count": 605,
      "outputs": []
    }
  ],
  "metadata": {
    "kernelspec": {
      "display_name": "Python 3 (ipykernel)",
      "language": "python",
      "name": "python3"
    },
    "language_info": {
      "codemirror_mode": {
        "name": "ipython",
        "version": 3
      },
      "file_extension": ".py",
      "mimetype": "text/x-python",
      "name": "python",
      "nbconvert_exporter": "python",
      "pygments_lexer": "ipython3",
      "version": "3.11.3"
    },
    "colab": {
      "provenance": []
    }
  },
  "nbformat": 4,
  "nbformat_minor": 5
}